{
 "cells": [
  {
   "cell_type": "code",
   "execution_count": 1,
   "metadata": {
    "colab": {
     "base_uri": "https://localhost:8080/"
    },
    "id": "c58irmfpc1T9",
    "outputId": "4102d2bd-4c85-4cee-a0ec-375c5ca3854c"
   },
   "outputs": [
    {
     "name": "stdout",
     "output_type": "stream",
     "text": [
      "please input number : 21\n",
      "nilaimu Elek\n"
     ]
    }
   ],
   "source": [
    "a = int (input (\"please input number : \"))\n",
    "\n",
    "if a > 90 :\n",
    "    print (\"nilaimu Apik\")\n",
    "elif a > 70:\n",
    "    print(\"nilaimu Bagus\")\n",
    "elif a > 50:\n",
    "    print(\"nilaimu Cukup\")\n",
    "elif a > 30 :\n",
    "    print(\"nilaimu D\")\n",
    "else :\n",
    "    print(\"nilaimu Elek\")"
   ]
  },
  {
   "cell_type": "code",
   "execution_count": 19,
   "metadata": {
    "colab": {
     "base_uri": "https://localhost:8080/"
    },
    "id": "5SLiFCOSfyUG",
    "outputId": "922ed69c-8c2b-47c6-84b9-157bf28c50d9"
   },
   "outputs": [
    {
     "name": "stdout",
     "output_type": "stream",
     "text": [
      "salah\n"
     ]
    }
   ],
   "source": [
    "if [] :\n",
    "  print(\"benar\")\n",
    "else:\n",
    "  print(\"salah\")"
   ]
  },
  {
   "cell_type": "code",
   "execution_count": 20,
   "metadata": {
    "colab": {
     "base_uri": "https://localhost:8080/"
    },
    "id": "oqWTMRS5gcDn",
    "outputId": "2414170c-447f-44fd-98fb-03696a34ec91"
   },
   "outputs": [
    {
     "name": "stdout",
     "output_type": "stream",
     "text": [
      "i ke  1\n",
      "i ke  2\n",
      "i ke  3\n",
      "i ke  4\n",
      "i ke  5\n",
      "i ke  6\n",
      "i ke  7\n",
      "i ke  8\n",
      "i ke  9\n",
      "i ke  10\n",
      "i ke  11\n"
     ]
    }
   ],
   "source": [
    "i = 0\n",
    "\n",
    "while i <= 10:\n",
    "  i = i + 1\n",
    "  print (\"i ke \",i)"
   ]
  },
  {
   "cell_type": "code",
   "execution_count": 34,
   "metadata": {
    "colab": {
     "base_uri": "https://localhost:8080/"
    },
    "id": "MAEbkVHUhdz2",
    "outputId": "ce100c81-b760-4d5f-c851-6b8e827ab8f5"
   },
   "outputs": [
    {
     "name": "stdout",
     "output_type": "stream",
     "text": [
      "please input number : 90\n",
      "please input number : 99\n",
      "nilaimu Apik\n",
      "please input number : m\n",
      "selesai\n"
     ]
    }
   ],
   "source": [
    "i = \"\"\n",
    "i = input (\"please input number : \")\n",
    "while i != \"Exit\":\n",
    "  i = input (\"please input number : \")\n",
    "  if not i.isnumeric():break;\n",
    "\n",
    "  a= int(i)\n",
    "  if a > 90 :\n",
    "    print (\"nilaimu Apik\")\n",
    "  elif a > 70:\n",
    "    print(\"nilaimu Bagus\")\n",
    "  elif a > 50:\n",
    "    print(\"nilaimu Cukup\")\n",
    "  elif a > 30 :\n",
    "    print(\"nilaimu D\")\n",
    "  else :\n",
    "    print(\"nilaimu Elek\")\n",
    "print(\"selesai\")"
   ]
  },
  {
   "cell_type": "code",
   "execution_count": 47,
   "metadata": {
    "colab": {
     "base_uri": "https://localhost:8080/"
    },
    "id": "Wo2xiyWfmGeK",
    "outputId": "3c664706-8834-4f39-8bd8-e374df661487"
   },
   "outputs": [
    {
     "name": "stdout",
     "output_type": "stream",
     "text": [
      "masukkan input 7\n",
      "0\n",
      "0\n",
      "2\n",
      "2\n",
      "6\n",
      "6\n",
      "12\n"
     ]
    }
   ],
   "source": [
    "nilai = int(input(\"masukkan input \"))\n",
    "hasil = 0\n",
    "for x in range(nilai):\n",
    "  if x % 2 == 0 :\n",
    "    hasil += x\n",
    "  print (hasil)"
   ]
  },
  {
   "cell_type": "code",
   "execution_count": 48,
   "metadata": {
    "colab": {
     "base_uri": "https://localhost:8080/",
     "height": 572
    },
    "id": "MxUOtTqMmvdC",
    "outputId": "a5e9e3f5-2386-4001-d47a-d60f2299f237"
   },
   "outputs": [
    {
     "name": "stdout",
     "output_type": "stream",
     "text": [
      "Kami telah memiliki angka 1 - 10, silakan tebak!\n",
      "8\n"
     ]
    },
    {
     "ename": "KeyboardInterrupt",
     "evalue": "ignored",
     "output_type": "error",
     "traceback": [
      "\u001b[0;31m---------------------------------------------------------------------------\u001b[0m",
      "\u001b[0;31mKeyboardInterrupt\u001b[0m                         Traceback (most recent call last)",
      "\u001b[0;32m/usr/local/lib/python3.7/dist-packages/ipykernel/kernelbase.py\u001b[0m in \u001b[0;36m_input_request\u001b[0;34m(self, prompt, ident, parent, password)\u001b[0m\n\u001b[1;32m    728\u001b[0m             \u001b[0;32mtry\u001b[0m\u001b[0;34m:\u001b[0m\u001b[0;34m\u001b[0m\u001b[0;34m\u001b[0m\u001b[0m\n\u001b[0;32m--> 729\u001b[0;31m                 \u001b[0mident\u001b[0m\u001b[0;34m,\u001b[0m \u001b[0mreply\u001b[0m \u001b[0;34m=\u001b[0m \u001b[0mself\u001b[0m\u001b[0;34m.\u001b[0m\u001b[0msession\u001b[0m\u001b[0;34m.\u001b[0m\u001b[0mrecv\u001b[0m\u001b[0;34m(\u001b[0m\u001b[0mself\u001b[0m\u001b[0;34m.\u001b[0m\u001b[0mstdin_socket\u001b[0m\u001b[0;34m,\u001b[0m \u001b[0;36m0\u001b[0m\u001b[0;34m)\u001b[0m\u001b[0;34m\u001b[0m\u001b[0;34m\u001b[0m\u001b[0m\n\u001b[0m\u001b[1;32m    730\u001b[0m             \u001b[0;32mexcept\u001b[0m \u001b[0mException\u001b[0m\u001b[0;34m:\u001b[0m\u001b[0;34m\u001b[0m\u001b[0;34m\u001b[0m\u001b[0m\n",
      "\u001b[0;32m/usr/local/lib/python3.7/dist-packages/jupyter_client/session.py\u001b[0m in \u001b[0;36mrecv\u001b[0;34m(self, socket, mode, content, copy)\u001b[0m\n\u001b[1;32m    802\u001b[0m         \u001b[0;32mtry\u001b[0m\u001b[0;34m:\u001b[0m\u001b[0;34m\u001b[0m\u001b[0;34m\u001b[0m\u001b[0m\n\u001b[0;32m--> 803\u001b[0;31m             \u001b[0mmsg_list\u001b[0m \u001b[0;34m=\u001b[0m \u001b[0msocket\u001b[0m\u001b[0;34m.\u001b[0m\u001b[0mrecv_multipart\u001b[0m\u001b[0;34m(\u001b[0m\u001b[0mmode\u001b[0m\u001b[0;34m,\u001b[0m \u001b[0mcopy\u001b[0m\u001b[0;34m=\u001b[0m\u001b[0mcopy\u001b[0m\u001b[0;34m)\u001b[0m\u001b[0;34m\u001b[0m\u001b[0;34m\u001b[0m\u001b[0m\n\u001b[0m\u001b[1;32m    804\u001b[0m         \u001b[0;32mexcept\u001b[0m \u001b[0mzmq\u001b[0m\u001b[0;34m.\u001b[0m\u001b[0mZMQError\u001b[0m \u001b[0;32mas\u001b[0m \u001b[0me\u001b[0m\u001b[0;34m:\u001b[0m\u001b[0;34m\u001b[0m\u001b[0;34m\u001b[0m\u001b[0m\n",
      "\u001b[0;32m/usr/local/lib/python3.7/dist-packages/zmq/sugar/socket.py\u001b[0m in \u001b[0;36mrecv_multipart\u001b[0;34m(self, flags, copy, track)\u001b[0m\n\u001b[1;32m    618\u001b[0m         \"\"\"\n\u001b[0;32m--> 619\u001b[0;31m         \u001b[0mparts\u001b[0m \u001b[0;34m=\u001b[0m \u001b[0;34m[\u001b[0m\u001b[0mself\u001b[0m\u001b[0;34m.\u001b[0m\u001b[0mrecv\u001b[0m\u001b[0;34m(\u001b[0m\u001b[0mflags\u001b[0m\u001b[0;34m,\u001b[0m \u001b[0mcopy\u001b[0m\u001b[0;34m=\u001b[0m\u001b[0mcopy\u001b[0m\u001b[0;34m,\u001b[0m \u001b[0mtrack\u001b[0m\u001b[0;34m=\u001b[0m\u001b[0mtrack\u001b[0m\u001b[0;34m)\u001b[0m\u001b[0;34m]\u001b[0m\u001b[0;34m\u001b[0m\u001b[0;34m\u001b[0m\u001b[0m\n\u001b[0m\u001b[1;32m    620\u001b[0m         \u001b[0;31m# have first part already, only loop while more to receive\u001b[0m\u001b[0;34m\u001b[0m\u001b[0;34m\u001b[0m\u001b[0;34m\u001b[0m\u001b[0m\n",
      "\u001b[0;32mzmq/backend/cython/socket.pyx\u001b[0m in \u001b[0;36mzmq.backend.cython.socket.Socket.recv\u001b[0;34m()\u001b[0m\n",
      "\u001b[0;32mzmq/backend/cython/socket.pyx\u001b[0m in \u001b[0;36mzmq.backend.cython.socket.Socket.recv\u001b[0;34m()\u001b[0m\n",
      "\u001b[0;32mzmq/backend/cython/socket.pyx\u001b[0m in \u001b[0;36mzmq.backend.cython.socket._recv_copy\u001b[0;34m()\u001b[0m\n",
      "\u001b[0;32m/usr/local/lib/python3.7/dist-packages/zmq/backend/cython/checkrc.pxd\u001b[0m in \u001b[0;36mzmq.backend.cython.checkrc._check_rc\u001b[0;34m()\u001b[0m\n",
      "\u001b[0;31mKeyboardInterrupt\u001b[0m: ",
      "\nDuring handling of the above exception, another exception occurred:\n",
      "\u001b[0;31mKeyboardInterrupt\u001b[0m                         Traceback (most recent call last)",
      "\u001b[0;32m<ipython-input-48-2ee6718108b0>\u001b[0m in \u001b[0;36m<module>\u001b[0;34m()\u001b[0m\n\u001b[1;32m      5\u001b[0m \u001b[0mprint\u001b[0m \u001b[0;34m(\u001b[0m\u001b[0mangka_rahasia\u001b[0m\u001b[0;34m)\u001b[0m\u001b[0;34m\u001b[0m\u001b[0;34m\u001b[0m\u001b[0m\n\u001b[1;32m      6\u001b[0m \u001b[0;32mwhile\u001b[0m \u001b[0;32mTrue\u001b[0m\u001b[0;34m:\u001b[0m\u001b[0;34m\u001b[0m\u001b[0;34m\u001b[0m\u001b[0m\n\u001b[0;32m----> 7\u001b[0;31m   \u001b[0mjawaban\u001b[0m \u001b[0;34m=\u001b[0m \u001b[0mint\u001b[0m\u001b[0;34m(\u001b[0m\u001b[0minput\u001b[0m\u001b[0;34m(\u001b[0m\u001b[0;34m'Masukkan angka: '\u001b[0m\u001b[0;34m)\u001b[0m\u001b[0;34m)\u001b[0m\u001b[0;34m\u001b[0m\u001b[0;34m\u001b[0m\u001b[0m\n\u001b[0m\u001b[1;32m      8\u001b[0m \u001b[0;34m\u001b[0m\u001b[0m\n\u001b[1;32m      9\u001b[0m   \u001b[0;32mif\u001b[0m \u001b[0mjawaban\u001b[0m \u001b[0;34m==\u001b[0m \u001b[0mangka_rahasia\u001b[0m\u001b[0;34m:\u001b[0m\u001b[0;34m\u001b[0m\u001b[0;34m\u001b[0m\u001b[0m\n",
      "\u001b[0;32m/usr/local/lib/python3.7/dist-packages/ipykernel/kernelbase.py\u001b[0m in \u001b[0;36mraw_input\u001b[0;34m(self, prompt)\u001b[0m\n\u001b[1;32m    702\u001b[0m             \u001b[0mself\u001b[0m\u001b[0;34m.\u001b[0m\u001b[0m_parent_ident\u001b[0m\u001b[0;34m,\u001b[0m\u001b[0;34m\u001b[0m\u001b[0;34m\u001b[0m\u001b[0m\n\u001b[1;32m    703\u001b[0m             \u001b[0mself\u001b[0m\u001b[0;34m.\u001b[0m\u001b[0m_parent_header\u001b[0m\u001b[0;34m,\u001b[0m\u001b[0;34m\u001b[0m\u001b[0;34m\u001b[0m\u001b[0m\n\u001b[0;32m--> 704\u001b[0;31m             \u001b[0mpassword\u001b[0m\u001b[0;34m=\u001b[0m\u001b[0;32mFalse\u001b[0m\u001b[0;34m,\u001b[0m\u001b[0;34m\u001b[0m\u001b[0;34m\u001b[0m\u001b[0m\n\u001b[0m\u001b[1;32m    705\u001b[0m         )\n\u001b[1;32m    706\u001b[0m \u001b[0;34m\u001b[0m\u001b[0m\n",
      "\u001b[0;32m/usr/local/lib/python3.7/dist-packages/ipykernel/kernelbase.py\u001b[0m in \u001b[0;36m_input_request\u001b[0;34m(self, prompt, ident, parent, password)\u001b[0m\n\u001b[1;32m    732\u001b[0m             \u001b[0;32mexcept\u001b[0m \u001b[0mKeyboardInterrupt\u001b[0m\u001b[0;34m:\u001b[0m\u001b[0;34m\u001b[0m\u001b[0;34m\u001b[0m\u001b[0m\n\u001b[1;32m    733\u001b[0m                 \u001b[0;31m# re-raise KeyboardInterrupt, to truncate traceback\u001b[0m\u001b[0;34m\u001b[0m\u001b[0;34m\u001b[0m\u001b[0;34m\u001b[0m\u001b[0m\n\u001b[0;32m--> 734\u001b[0;31m                 \u001b[0;32mraise\u001b[0m \u001b[0mKeyboardInterrupt\u001b[0m\u001b[0;34m\u001b[0m\u001b[0;34m\u001b[0m\u001b[0m\n\u001b[0m\u001b[1;32m    735\u001b[0m             \u001b[0;32melse\u001b[0m\u001b[0;34m:\u001b[0m\u001b[0;34m\u001b[0m\u001b[0;34m\u001b[0m\u001b[0m\n\u001b[1;32m    736\u001b[0m                 \u001b[0;32mbreak\u001b[0m\u001b[0;34m\u001b[0m\u001b[0;34m\u001b[0m\u001b[0m\n",
      "\u001b[0;31mKeyboardInterrupt\u001b[0m: "
     ]
    }
   ],
   "source": [
    "import random\n",
    "\n",
    "angka_rahasia = random.randint(1, 10)\n",
    "print('Kami telah memiliki angka 1 - 10, silakan tebak!')\n",
    "print (angka_rahasia)\n",
    "while True:\n",
    "  jawaban = int(input('Masukkan angka: '))\n",
    "\n",
    "  if jawaban == angka_rahasia:\n",
    "    print('Selamat, tebakanmu benar!')\n",
    "    break "
   ]
  },
  {
   "cell_type": "code",
   "execution_count": 52,
   "metadata": {
    "colab": {
     "base_uri": "https://localhost:8080/"
    },
    "id": "EO0Es_uwq2wj",
    "outputId": "6fd0ac64-e645-45d2-d3cc-b70a71072cc5"
   },
   "outputs": [
    {
     "name": "stdout",
     "output_type": "stream",
     "text": [
      "0,0 0,1 0,2 \n",
      "1,0 1,1 1,2 \n",
      "2,0 2,1 2,2 \n",
      "\n"
     ]
    }
   ],
   "source": [
    "# 1 2 3\n",
    "# 1 2 3\n",
    "# 1 2 3\n",
    "\n",
    "row = 3\n",
    "cols = 3\n",
    "i = 0\n",
    "disp = \"\"\n",
    "while i < row:\n",
    "  j = 0\n",
    "  while j < cols:\n",
    "    disp = disp + str(i) + \",\" + str(j) + \" \"\n",
    "    j+=1\n",
    "  disp += \"\\n\"\n",
    "  i+=1\n",
    "print(disp)\n"
   ]
  },
  {
   "cell_type": "code",
   "execution_count": 11,
   "metadata": {
    "colab": {
     "base_uri": "https://localhost:8080/"
    },
    "id": "sqLea7sbuGNQ",
    "outputId": "5339a32c-0fd6-482d-cb9e-89d3f487ecb3"
   },
   "outputs": [
    {
     "name": "stdout",
     "output_type": "stream",
     "text": [
      "\n",
      "*\n",
      "**\n",
      "***\n",
      "****\n",
      "*****\n",
      "\n"
     ]
    }
   ],
   "source": [
    "cnr = 5\n",
    "i = 0\n",
    "disp = \"\"\n",
    "while i < cnr:\n",
    "  j = i\n",
    "  while j > 0:\n",
    "    disp = disp + \"*\"\n",
    "    j = j - 1\n",
    "  disp = disp +\"\\n\"\n",
    "  i+=1\n",
    "print(disp)"
   ]
  },
  {
   "cell_type": "code",
   "execution_count": 57,
   "metadata": {
    "colab": {
     "base_uri": "https://localhost:8080/"
    },
    "id": "-S5CcJnlsZfx",
    "outputId": "ecb0935b-95a8-4fdb-ab2b-4745190495c7"
   },
   "outputs": [
    {
     "name": "stdout",
     "output_type": "stream",
     "text": [
      "*\n",
      "**\n",
      "***\n",
      "****\n",
      "*****\n",
      "\n"
     ]
    }
   ],
   "source": [
    "string = \"\"\n",
    "bar = 1\n",
    "\n",
    "# Looping Baris \n",
    "while bar <= 5:\n",
    "\tkol = bar\n",
    "\n",
    "\t# Looping Kolom\n",
    "\twhile kol > 0:\n",
    "\t\tstring = string + \"*\"\n",
    "\t\tkol = kol - 1\n",
    "\t\t\n",
    "\tstring = string + \"\\n\"\n",
    "\tbar = bar + 1\n",
    "print (string)"
   ]
  },
  {
   "cell_type": "code",
   "execution_count": 58,
   "metadata": {
    "colab": {
     "base_uri": "https://localhost:8080/"
    },
    "id": "eWJlCO2NtRBt",
    "outputId": "ba017557-c7c0-40b8-f92f-1e3ad3549861"
   },
   "outputs": [
    {
     "name": "stdout",
     "output_type": "stream",
     "text": [
      "*\n",
      "**\n",
      "***\n",
      "****\n",
      "*****\n"
     ]
    }
   ],
   "source": [
    "a = 5\n",
    "for i in range(0, a):\n",
    "    for j in range(0, i  +1):\n",
    "        print('*' , end='')\n",
    "    print('')"
   ]
  },
  {
   "cell_type": "code",
   "execution_count": 12,
   "metadata": {
    "colab": {
     "base_uri": "https://localhost:8080/"
    },
    "id": "2tFrDZm4282i",
    "outputId": "0174ef40-469a-4fb4-cd82-3a90f152bf0e"
   },
   "outputs": [
    {
     "name": "stdout",
     "output_type": "stream",
     "text": [
      "makan\n",
      "eat\n"
     ]
    }
   ],
   "source": [
    "hb =[\"makan\",\"eat\"]\n",
    "\n",
    "for hobbi in hb:\n",
    "  print (hobbi)"
   ]
  },
  {
   "cell_type": "code",
   "execution_count": 17,
   "metadata": {
    "colab": {
     "base_uri": "https://localhost:8080/"
    },
    "id": "oDGVQqvr3KM_",
    "outputId": "b08a538d-b562-48df-df86-c86dc260217a"
   },
   "outputs": [
    {
     "name": "stdout",
     "output_type": "stream",
     "text": [
      "===== 0\n",
      "===== 1\n",
      "===== 2\n",
      "===== 3\n",
      "===== 4\n"
     ]
    }
   ],
   "source": [
    "for i in range(5):\n",
    "  print(\"=====\",i)"
   ]
  },
  {
   "cell_type": "code",
   "execution_count": 20,
   "metadata": {
    "colab": {
     "base_uri": "https://localhost:8080/"
    },
    "id": "o_yO2x793YY1",
    "outputId": "79efa065-a972-497b-9751-a03cde0d63b7"
   },
   "outputs": [
    {
     "name": "stdout",
     "output_type": "stream",
     "text": [
      "nama reza\n",
      "===========\n",
      "nama reza\n",
      "Pekerjaan HRD\n"
     ]
    }
   ],
   "source": [
    "mydict = {'nama': \"reza\",\"umur\":22, \"Pekerjaan\": \"HRD\"}\n",
    "\n",
    "\n",
    "for key in mydict:\n",
    "  if (key == \"umur\") :break;\n",
    "  print(key,mydict[key])\n",
    "print(\"===========\")\n",
    "for key in mydict:\n",
    "  if ( key ==\"umur\"): continue;\n",
    "  print(key,mydict[key])"
   ]
  },
  {
   "cell_type": "code",
   "execution_count": 29,
   "metadata": {
    "colab": {
     "base_uri": "https://localhost:8080/",
     "height": 337
    },
    "id": "7aR5Ssge4qSy",
    "outputId": "f07c786d-6329-40ab-b26c-cec8538763e3"
   },
   "outputs": [
    {
     "name": "stdout",
     "output_type": "stream",
     "text": [
      "masukkan nama jika sudah masukkan stopasd\n",
      "{'nama': 'asd', 'umur': '', 'Pekerjaan': '', 'hobbies': ''}\n",
      "masukkan umur jika sudah masukkan stop21\n",
      "{'nama': 'asd', 'umur': '21', 'Pekerjaan': '', 'hobbies': ''}\n",
      "masukkan Pekerjaan jika sudah masukkan stop33\n",
      "{'nama': 'asd', 'umur': '21', 'Pekerjaan': '33', 'hobbies': ''}\n",
      "masukkan hobbies jika sudah masukkan stopkasj\n"
     ]
    },
    {
     "ename": "AttributeError",
     "evalue": "ignored",
     "output_type": "error",
     "traceback": [
      "\u001b[0;31m---------------------------------------------------------------------------\u001b[0m",
      "\u001b[0;31mAttributeError\u001b[0m                            Traceback (most recent call last)",
      "\u001b[0;32m<ipython-input-29-940e5ab8fd1d>\u001b[0m in \u001b[0;36m<module>\u001b[0;34m()\u001b[0m\n\u001b[1;32m      5\u001b[0m     \u001b[0;32mwhile\u001b[0m \u001b[0mUinput\u001b[0m \u001b[0;34m!=\u001b[0m \u001b[0;34m\"stop\"\u001b[0m\u001b[0;34m:\u001b[0m\u001b[0;34m\u001b[0m\u001b[0;34m\u001b[0m\u001b[0m\n\u001b[1;32m      6\u001b[0m       \u001b[0mUinput\u001b[0m \u001b[0;34m=\u001b[0m \u001b[0minput\u001b[0m \u001b[0;34m(\u001b[0m\u001b[0;34m\"masukkan {} jika sudah masukkan stop\"\u001b[0m\u001b[0;34m.\u001b[0m\u001b[0mformat\u001b[0m\u001b[0;34m(\u001b[0m\u001b[0mkey\u001b[0m\u001b[0;34m)\u001b[0m\u001b[0;34m)\u001b[0m\u001b[0;34m\u001b[0m\u001b[0;34m\u001b[0m\u001b[0m\n\u001b[0;32m----> 7\u001b[0;31m       \u001b[0mmydict\u001b[0m\u001b[0;34m[\u001b[0m\u001b[0mkey\u001b[0m\u001b[0;34m]\u001b[0m\u001b[0;34m.\u001b[0m\u001b[0mappend\u001b[0m\u001b[0;34m(\u001b[0m\u001b[0mUinput\u001b[0m\u001b[0;34m)\u001b[0m\u001b[0;34m\u001b[0m\u001b[0;34m\u001b[0m\u001b[0m\n\u001b[0m\u001b[1;32m      8\u001b[0m   \u001b[0;32melse\u001b[0m\u001b[0;34m:\u001b[0m\u001b[0;34m\u001b[0m\u001b[0;34m\u001b[0m\u001b[0m\n\u001b[1;32m      9\u001b[0m     \u001b[0mUinput\u001b[0m \u001b[0;34m=\u001b[0m \u001b[0minput\u001b[0m \u001b[0;34m(\u001b[0m\u001b[0;34m\"masukkan {} jika sudah masukkan stop\"\u001b[0m\u001b[0;34m.\u001b[0m\u001b[0mformat\u001b[0m\u001b[0;34m(\u001b[0m\u001b[0mkey\u001b[0m\u001b[0;34m)\u001b[0m\u001b[0;34m)\u001b[0m\u001b[0;34m\u001b[0m\u001b[0;34m\u001b[0m\u001b[0m\n",
      "\u001b[0;31mAttributeError\u001b[0m: 'str' object has no attribute 'append'"
     ]
    }
   ],
   "source": [
    "mydict = {\"nama\": \"\",\"umur\":\"\", \"Pekerjaan\": \"\", \"hobbies\":\"\"}\n",
    "for key in mydict:\n",
    "  if (key == \"hobbies\") :\n",
    "      Uinput = \"\"\n",
    "      while Uinput != \"stop\":\n",
    "        Uinput = input (\"masukkan {} jika sudah masukkan stop\".format(key))\n",
    "         mydict[key].append(Uinput)\n",
    "  else:\n",
    "    Uinput = input (\"masukkan {} jika sudah masukkan stop\".format(key))\n",
    "    mydict[key] = Uinput\n",
    "print(mydict)"
   ]
  }
 ],
 "metadata": {
  "colab": {
   "name": "Untitled8.ipynb",
   "provenance": []
  },
  "kernelspec": {
   "display_name": "Python 3",
   "language": "python",
   "name": "python3"
  },
  "language_info": {
   "codemirror_mode": {
    "name": "ipython",
    "version": 3
   },
   "file_extension": ".py",
   "mimetype": "text/x-python",
   "name": "python",
   "nbconvert_exporter": "python",
   "pygments_lexer": "ipython3",
   "version": "3.8.8"
  }
 },
 "nbformat": 4,
 "nbformat_minor": 1
}
