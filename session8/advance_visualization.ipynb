{
  "nbformat": 4,
  "nbformat_minor": 0,
  "metadata": {
    "colab": {
      "name": "advance visualization",
      "provenance": [],
      "collapsed_sections": []
    },
    "kernelspec": {
      "name": "python3",
      "display_name": "Python 3"
    },
    "language_info": {
      "name": "python"
    }
  },
  "cells": [
    {
      "cell_type": "code",
      "metadata": {
        "id": "x7PFc5VHYL4y"
      },
      "source": [
        "import pandas as pd\n",
        "import numpy as np"
      ],
      "execution_count": null,
      "outputs": []
    },
    {
      "cell_type": "code",
      "metadata": {
        "id": "CNzLggIykm2_"
      },
      "source": [
        "df_can = pd.read_excel(\"https://github.com/ardhiraka/PFDS_sources/raw/master/Canada.xlsx\", sheet_name=\"Canada by Citizenship\", skiprows=range(20))"
      ],
      "execution_count": null,
      "outputs": []
    },
    {
      "cell_type": "code",
      "metadata": {
        "id": "W6wh_u4Okp2X"
      },
      "source": [
        "df_can.drop([\"Coverage\",\"Type\",\"AREA\",\"REG\",\"DEV\"], axis=1, inplace=True)"
      ],
      "execution_count": null,
      "outputs": []
    },
    {
      "cell_type": "code",
      "metadata": {
        "id": "GwIjwktSkrCZ"
      },
      "source": [
        "df_can.rename(columns={\"OdName\":\"Country\",\"AreaName\":\"Continent\",\"RegName\":\"Region\"}, inplace=True)"
      ],
      "execution_count": null,
      "outputs": []
    },
    {
      "cell_type": "code",
      "metadata": {
        "id": "WR46ZoynkzL1"
      },
      "source": [
        "Index_By_County = df_can.set_index(\"Country\")"
      ],
      "execution_count": null,
      "outputs": []
    },
    {
      "cell_type": "code",
      "metadata": {
        "colab": {
          "base_uri": "https://localhost:8080/",
          "height": 590
        },
        "id": "t6HbOnaxlHjR",
        "outputId": "4970fe11-bcbb-4794-899a-32854251c742"
      },
      "source": [
        "Index_By_County"
      ],
      "execution_count": null,
      "outputs": [
        {
          "output_type": "execute_result",
          "data": {
            "text/html": [
              "<div>\n",
              "<style scoped>\n",
              "    .dataframe tbody tr th:only-of-type {\n",
              "        vertical-align: middle;\n",
              "    }\n",
              "\n",
              "    .dataframe tbody tr th {\n",
              "        vertical-align: top;\n",
              "    }\n",
              "\n",
              "    .dataframe thead th {\n",
              "        text-align: right;\n",
              "    }\n",
              "</style>\n",
              "<table border=\"1\" class=\"dataframe\">\n",
              "  <thead>\n",
              "    <tr style=\"text-align: right;\">\n",
              "      <th></th>\n",
              "      <th>Continent</th>\n",
              "      <th>Region</th>\n",
              "      <th>DevName</th>\n",
              "      <th>1980</th>\n",
              "      <th>1981</th>\n",
              "      <th>1982</th>\n",
              "      <th>1983</th>\n",
              "      <th>1984</th>\n",
              "      <th>1985</th>\n",
              "      <th>1986</th>\n",
              "      <th>1987</th>\n",
              "      <th>1988</th>\n",
              "      <th>1989</th>\n",
              "      <th>1990</th>\n",
              "      <th>1991</th>\n",
              "      <th>1992</th>\n",
              "      <th>1993</th>\n",
              "      <th>1994</th>\n",
              "      <th>1995</th>\n",
              "      <th>1996</th>\n",
              "      <th>1997</th>\n",
              "      <th>1998</th>\n",
              "      <th>1999</th>\n",
              "      <th>2000</th>\n",
              "      <th>2001</th>\n",
              "      <th>2002</th>\n",
              "      <th>2003</th>\n",
              "      <th>2004</th>\n",
              "      <th>2005</th>\n",
              "      <th>2006</th>\n",
              "      <th>2007</th>\n",
              "      <th>2008</th>\n",
              "      <th>2009</th>\n",
              "      <th>2010</th>\n",
              "      <th>2011</th>\n",
              "      <th>2012</th>\n",
              "      <th>2013</th>\n",
              "    </tr>\n",
              "    <tr>\n",
              "      <th>Country</th>\n",
              "      <th></th>\n",
              "      <th></th>\n",
              "      <th></th>\n",
              "      <th></th>\n",
              "      <th></th>\n",
              "      <th></th>\n",
              "      <th></th>\n",
              "      <th></th>\n",
              "      <th></th>\n",
              "      <th></th>\n",
              "      <th></th>\n",
              "      <th></th>\n",
              "      <th></th>\n",
              "      <th></th>\n",
              "      <th></th>\n",
              "      <th></th>\n",
              "      <th></th>\n",
              "      <th></th>\n",
              "      <th></th>\n",
              "      <th></th>\n",
              "      <th></th>\n",
              "      <th></th>\n",
              "      <th></th>\n",
              "      <th></th>\n",
              "      <th></th>\n",
              "      <th></th>\n",
              "      <th></th>\n",
              "      <th></th>\n",
              "      <th></th>\n",
              "      <th></th>\n",
              "      <th></th>\n",
              "      <th></th>\n",
              "      <th></th>\n",
              "      <th></th>\n",
              "      <th></th>\n",
              "      <th></th>\n",
              "      <th></th>\n",
              "    </tr>\n",
              "  </thead>\n",
              "  <tbody>\n",
              "    <tr>\n",
              "      <th>Afghanistan</th>\n",
              "      <td>Asia</td>\n",
              "      <td>Southern Asia</td>\n",
              "      <td>Developing regions</td>\n",
              "      <td>16</td>\n",
              "      <td>39</td>\n",
              "      <td>39</td>\n",
              "      <td>47</td>\n",
              "      <td>71</td>\n",
              "      <td>340</td>\n",
              "      <td>496</td>\n",
              "      <td>741</td>\n",
              "      <td>828</td>\n",
              "      <td>1076</td>\n",
              "      <td>1028</td>\n",
              "      <td>1378</td>\n",
              "      <td>1170</td>\n",
              "      <td>713</td>\n",
              "      <td>858</td>\n",
              "      <td>1537</td>\n",
              "      <td>2212</td>\n",
              "      <td>2555</td>\n",
              "      <td>1999</td>\n",
              "      <td>2395</td>\n",
              "      <td>3326</td>\n",
              "      <td>4067</td>\n",
              "      <td>3697</td>\n",
              "      <td>3479</td>\n",
              "      <td>2978</td>\n",
              "      <td>3436</td>\n",
              "      <td>3009</td>\n",
              "      <td>2652</td>\n",
              "      <td>2111</td>\n",
              "      <td>1746</td>\n",
              "      <td>1758</td>\n",
              "      <td>2203</td>\n",
              "      <td>2635</td>\n",
              "      <td>2004</td>\n",
              "    </tr>\n",
              "    <tr>\n",
              "      <th>Albania</th>\n",
              "      <td>Europe</td>\n",
              "      <td>Southern Europe</td>\n",
              "      <td>Developed regions</td>\n",
              "      <td>1</td>\n",
              "      <td>0</td>\n",
              "      <td>0</td>\n",
              "      <td>0</td>\n",
              "      <td>0</td>\n",
              "      <td>0</td>\n",
              "      <td>1</td>\n",
              "      <td>2</td>\n",
              "      <td>2</td>\n",
              "      <td>3</td>\n",
              "      <td>3</td>\n",
              "      <td>21</td>\n",
              "      <td>56</td>\n",
              "      <td>96</td>\n",
              "      <td>71</td>\n",
              "      <td>63</td>\n",
              "      <td>113</td>\n",
              "      <td>307</td>\n",
              "      <td>574</td>\n",
              "      <td>1264</td>\n",
              "      <td>1816</td>\n",
              "      <td>1602</td>\n",
              "      <td>1021</td>\n",
              "      <td>853</td>\n",
              "      <td>1450</td>\n",
              "      <td>1223</td>\n",
              "      <td>856</td>\n",
              "      <td>702</td>\n",
              "      <td>560</td>\n",
              "      <td>716</td>\n",
              "      <td>561</td>\n",
              "      <td>539</td>\n",
              "      <td>620</td>\n",
              "      <td>603</td>\n",
              "    </tr>\n",
              "    <tr>\n",
              "      <th>Algeria</th>\n",
              "      <td>Africa</td>\n",
              "      <td>Northern Africa</td>\n",
              "      <td>Developing regions</td>\n",
              "      <td>80</td>\n",
              "      <td>67</td>\n",
              "      <td>71</td>\n",
              "      <td>69</td>\n",
              "      <td>63</td>\n",
              "      <td>44</td>\n",
              "      <td>69</td>\n",
              "      <td>132</td>\n",
              "      <td>242</td>\n",
              "      <td>434</td>\n",
              "      <td>491</td>\n",
              "      <td>872</td>\n",
              "      <td>795</td>\n",
              "      <td>717</td>\n",
              "      <td>595</td>\n",
              "      <td>1106</td>\n",
              "      <td>2054</td>\n",
              "      <td>1842</td>\n",
              "      <td>2292</td>\n",
              "      <td>2389</td>\n",
              "      <td>2867</td>\n",
              "      <td>3418</td>\n",
              "      <td>3406</td>\n",
              "      <td>3072</td>\n",
              "      <td>3616</td>\n",
              "      <td>3626</td>\n",
              "      <td>4807</td>\n",
              "      <td>3623</td>\n",
              "      <td>4005</td>\n",
              "      <td>5393</td>\n",
              "      <td>4752</td>\n",
              "      <td>4325</td>\n",
              "      <td>3774</td>\n",
              "      <td>4331</td>\n",
              "    </tr>\n",
              "    <tr>\n",
              "      <th>American Samoa</th>\n",
              "      <td>Oceania</td>\n",
              "      <td>Polynesia</td>\n",
              "      <td>Developing regions</td>\n",
              "      <td>0</td>\n",
              "      <td>1</td>\n",
              "      <td>0</td>\n",
              "      <td>0</td>\n",
              "      <td>0</td>\n",
              "      <td>0</td>\n",
              "      <td>0</td>\n",
              "      <td>1</td>\n",
              "      <td>0</td>\n",
              "      <td>1</td>\n",
              "      <td>2</td>\n",
              "      <td>0</td>\n",
              "      <td>0</td>\n",
              "      <td>0</td>\n",
              "      <td>0</td>\n",
              "      <td>0</td>\n",
              "      <td>0</td>\n",
              "      <td>0</td>\n",
              "      <td>0</td>\n",
              "      <td>0</td>\n",
              "      <td>0</td>\n",
              "      <td>0</td>\n",
              "      <td>0</td>\n",
              "      <td>0</td>\n",
              "      <td>0</td>\n",
              "      <td>0</td>\n",
              "      <td>1</td>\n",
              "      <td>0</td>\n",
              "      <td>0</td>\n",
              "      <td>0</td>\n",
              "      <td>0</td>\n",
              "      <td>0</td>\n",
              "      <td>0</td>\n",
              "      <td>0</td>\n",
              "    </tr>\n",
              "    <tr>\n",
              "      <th>Andorra</th>\n",
              "      <td>Europe</td>\n",
              "      <td>Southern Europe</td>\n",
              "      <td>Developed regions</td>\n",
              "      <td>0</td>\n",
              "      <td>0</td>\n",
              "      <td>0</td>\n",
              "      <td>0</td>\n",
              "      <td>0</td>\n",
              "      <td>0</td>\n",
              "      <td>2</td>\n",
              "      <td>0</td>\n",
              "      <td>0</td>\n",
              "      <td>0</td>\n",
              "      <td>3</td>\n",
              "      <td>0</td>\n",
              "      <td>1</td>\n",
              "      <td>0</td>\n",
              "      <td>0</td>\n",
              "      <td>0</td>\n",
              "      <td>0</td>\n",
              "      <td>0</td>\n",
              "      <td>2</td>\n",
              "      <td>0</td>\n",
              "      <td>0</td>\n",
              "      <td>1</td>\n",
              "      <td>0</td>\n",
              "      <td>2</td>\n",
              "      <td>0</td>\n",
              "      <td>0</td>\n",
              "      <td>1</td>\n",
              "      <td>1</td>\n",
              "      <td>0</td>\n",
              "      <td>0</td>\n",
              "      <td>0</td>\n",
              "      <td>0</td>\n",
              "      <td>1</td>\n",
              "      <td>1</td>\n",
              "    </tr>\n",
              "    <tr>\n",
              "      <th>...</th>\n",
              "      <td>...</td>\n",
              "      <td>...</td>\n",
              "      <td>...</td>\n",
              "      <td>...</td>\n",
              "      <td>...</td>\n",
              "      <td>...</td>\n",
              "      <td>...</td>\n",
              "      <td>...</td>\n",
              "      <td>...</td>\n",
              "      <td>...</td>\n",
              "      <td>...</td>\n",
              "      <td>...</td>\n",
              "      <td>...</td>\n",
              "      <td>...</td>\n",
              "      <td>...</td>\n",
              "      <td>...</td>\n",
              "      <td>...</td>\n",
              "      <td>...</td>\n",
              "      <td>...</td>\n",
              "      <td>...</td>\n",
              "      <td>...</td>\n",
              "      <td>...</td>\n",
              "      <td>...</td>\n",
              "      <td>...</td>\n",
              "      <td>...</td>\n",
              "      <td>...</td>\n",
              "      <td>...</td>\n",
              "      <td>...</td>\n",
              "      <td>...</td>\n",
              "      <td>...</td>\n",
              "      <td>...</td>\n",
              "      <td>...</td>\n",
              "      <td>...</td>\n",
              "      <td>...</td>\n",
              "      <td>...</td>\n",
              "      <td>...</td>\n",
              "      <td>...</td>\n",
              "    </tr>\n",
              "    <tr>\n",
              "      <th>Yemen</th>\n",
              "      <td>Asia</td>\n",
              "      <td>Western Asia</td>\n",
              "      <td>Developing regions</td>\n",
              "      <td>1</td>\n",
              "      <td>2</td>\n",
              "      <td>1</td>\n",
              "      <td>6</td>\n",
              "      <td>0</td>\n",
              "      <td>18</td>\n",
              "      <td>7</td>\n",
              "      <td>12</td>\n",
              "      <td>7</td>\n",
              "      <td>18</td>\n",
              "      <td>4</td>\n",
              "      <td>18</td>\n",
              "      <td>41</td>\n",
              "      <td>41</td>\n",
              "      <td>39</td>\n",
              "      <td>73</td>\n",
              "      <td>144</td>\n",
              "      <td>121</td>\n",
              "      <td>141</td>\n",
              "      <td>134</td>\n",
              "      <td>122</td>\n",
              "      <td>181</td>\n",
              "      <td>171</td>\n",
              "      <td>113</td>\n",
              "      <td>124</td>\n",
              "      <td>161</td>\n",
              "      <td>140</td>\n",
              "      <td>122</td>\n",
              "      <td>133</td>\n",
              "      <td>128</td>\n",
              "      <td>211</td>\n",
              "      <td>160</td>\n",
              "      <td>174</td>\n",
              "      <td>217</td>\n",
              "    </tr>\n",
              "    <tr>\n",
              "      <th>Zambia</th>\n",
              "      <td>Africa</td>\n",
              "      <td>Eastern Africa</td>\n",
              "      <td>Developing regions</td>\n",
              "      <td>11</td>\n",
              "      <td>17</td>\n",
              "      <td>11</td>\n",
              "      <td>7</td>\n",
              "      <td>16</td>\n",
              "      <td>9</td>\n",
              "      <td>15</td>\n",
              "      <td>23</td>\n",
              "      <td>44</td>\n",
              "      <td>68</td>\n",
              "      <td>77</td>\n",
              "      <td>69</td>\n",
              "      <td>73</td>\n",
              "      <td>46</td>\n",
              "      <td>51</td>\n",
              "      <td>41</td>\n",
              "      <td>34</td>\n",
              "      <td>72</td>\n",
              "      <td>34</td>\n",
              "      <td>51</td>\n",
              "      <td>39</td>\n",
              "      <td>78</td>\n",
              "      <td>50</td>\n",
              "      <td>46</td>\n",
              "      <td>56</td>\n",
              "      <td>91</td>\n",
              "      <td>77</td>\n",
              "      <td>71</td>\n",
              "      <td>64</td>\n",
              "      <td>60</td>\n",
              "      <td>102</td>\n",
              "      <td>69</td>\n",
              "      <td>46</td>\n",
              "      <td>59</td>\n",
              "    </tr>\n",
              "    <tr>\n",
              "      <th>Zimbabwe</th>\n",
              "      <td>Africa</td>\n",
              "      <td>Eastern Africa</td>\n",
              "      <td>Developing regions</td>\n",
              "      <td>72</td>\n",
              "      <td>114</td>\n",
              "      <td>102</td>\n",
              "      <td>44</td>\n",
              "      <td>32</td>\n",
              "      <td>29</td>\n",
              "      <td>43</td>\n",
              "      <td>68</td>\n",
              "      <td>99</td>\n",
              "      <td>187</td>\n",
              "      <td>129</td>\n",
              "      <td>94</td>\n",
              "      <td>61</td>\n",
              "      <td>72</td>\n",
              "      <td>78</td>\n",
              "      <td>58</td>\n",
              "      <td>39</td>\n",
              "      <td>44</td>\n",
              "      <td>43</td>\n",
              "      <td>49</td>\n",
              "      <td>98</td>\n",
              "      <td>110</td>\n",
              "      <td>191</td>\n",
              "      <td>669</td>\n",
              "      <td>1450</td>\n",
              "      <td>615</td>\n",
              "      <td>454</td>\n",
              "      <td>663</td>\n",
              "      <td>611</td>\n",
              "      <td>508</td>\n",
              "      <td>494</td>\n",
              "      <td>434</td>\n",
              "      <td>437</td>\n",
              "      <td>407</td>\n",
              "    </tr>\n",
              "    <tr>\n",
              "      <th>Unknown</th>\n",
              "      <td>World</td>\n",
              "      <td>World</td>\n",
              "      <td>World</td>\n",
              "      <td>44000</td>\n",
              "      <td>18078</td>\n",
              "      <td>16904</td>\n",
              "      <td>13635</td>\n",
              "      <td>14855</td>\n",
              "      <td>14368</td>\n",
              "      <td>13303</td>\n",
              "      <td>17304</td>\n",
              "      <td>22279</td>\n",
              "      <td>27118</td>\n",
              "      <td>28397</td>\n",
              "      <td>25293</td>\n",
              "      <td>33100</td>\n",
              "      <td>34589</td>\n",
              "      <td>30717</td>\n",
              "      <td>25152</td>\n",
              "      <td>25986</td>\n",
              "      <td>23151</td>\n",
              "      <td>13468</td>\n",
              "      <td>10132</td>\n",
              "      <td>10743</td>\n",
              "      <td>7993</td>\n",
              "      <td>5938</td>\n",
              "      <td>4052</td>\n",
              "      <td>3739</td>\n",
              "      <td>4785</td>\n",
              "      <td>4583</td>\n",
              "      <td>4348</td>\n",
              "      <td>4197</td>\n",
              "      <td>3402</td>\n",
              "      <td>3731</td>\n",
              "      <td>2554</td>\n",
              "      <td>1681</td>\n",
              "      <td>1484</td>\n",
              "    </tr>\n",
              "    <tr>\n",
              "      <th>Total</th>\n",
              "      <td>World</td>\n",
              "      <td>World</td>\n",
              "      <td>World</td>\n",
              "      <td>143137</td>\n",
              "      <td>128641</td>\n",
              "      <td>121175</td>\n",
              "      <td>89185</td>\n",
              "      <td>88272</td>\n",
              "      <td>84346</td>\n",
              "      <td>99351</td>\n",
              "      <td>152075</td>\n",
              "      <td>161585</td>\n",
              "      <td>191550</td>\n",
              "      <td>216451</td>\n",
              "      <td>232802</td>\n",
              "      <td>254787</td>\n",
              "      <td>256638</td>\n",
              "      <td>224382</td>\n",
              "      <td>212864</td>\n",
              "      <td>226071</td>\n",
              "      <td>216036</td>\n",
              "      <td>174195</td>\n",
              "      <td>189950</td>\n",
              "      <td>227455</td>\n",
              "      <td>250636</td>\n",
              "      <td>229049</td>\n",
              "      <td>221349</td>\n",
              "      <td>235822</td>\n",
              "      <td>262242</td>\n",
              "      <td>251640</td>\n",
              "      <td>236753</td>\n",
              "      <td>247244</td>\n",
              "      <td>252170</td>\n",
              "      <td>280687</td>\n",
              "      <td>248748</td>\n",
              "      <td>257903</td>\n",
              "      <td>259021</td>\n",
              "    </tr>\n",
              "  </tbody>\n",
              "</table>\n",
              "<p>197 rows × 37 columns</p>\n",
              "</div>"
            ],
            "text/plain": [
              "               Continent           Region  ...    2012    2013\n",
              "Country                                    ...                \n",
              "Afghanistan         Asia    Southern Asia  ...    2635    2004\n",
              "Albania           Europe  Southern Europe  ...     620     603\n",
              "Algeria           Africa  Northern Africa  ...    3774    4331\n",
              "American Samoa   Oceania        Polynesia  ...       0       0\n",
              "Andorra           Europe  Southern Europe  ...       1       1\n",
              "...                  ...              ...  ...     ...     ...\n",
              "Yemen               Asia     Western Asia  ...     174     217\n",
              "Zambia            Africa   Eastern Africa  ...      46      59\n",
              "Zimbabwe          Africa   Eastern Africa  ...     437     407\n",
              "Unknown            World            World  ...    1681    1484\n",
              "Total              World            World  ...  257903  259021\n",
              "\n",
              "[197 rows x 37 columns]"
            ]
          },
          "metadata": {},
          "execution_count": 6
        }
      ]
    },
    {
      "cell_type": "code",
      "metadata": {
        "colab": {
          "base_uri": "https://localhost:8080/",
          "height": 190
        },
        "id": "Fhrmvyg_lLpa",
        "outputId": "a5e03a72-a522-47dd-9432-fa40b4a6cdc0"
      },
      "source": [
        "Index_By_County [\"Total\"] = Index_By_County.sum(axis=1)\n",
        "years=range(1980,2014)\n",
        "df_dsn=Index_By_County.loc[['Denmark','Sweden','Norway'],years]\n",
        "df_dsn[\"Total\"] = df_dsn.sum(axis=1)\n",
        "df_dsn.head(3)"
      ],
      "execution_count": null,
      "outputs": [
        {
          "output_type": "execute_result",
          "data": {
            "text/html": [
              "<div>\n",
              "<style scoped>\n",
              "    .dataframe tbody tr th:only-of-type {\n",
              "        vertical-align: middle;\n",
              "    }\n",
              "\n",
              "    .dataframe tbody tr th {\n",
              "        vertical-align: top;\n",
              "    }\n",
              "\n",
              "    .dataframe thead th {\n",
              "        text-align: right;\n",
              "    }\n",
              "</style>\n",
              "<table border=\"1\" class=\"dataframe\">\n",
              "  <thead>\n",
              "    <tr style=\"text-align: right;\">\n",
              "      <th></th>\n",
              "      <th>1980</th>\n",
              "      <th>1981</th>\n",
              "      <th>1982</th>\n",
              "      <th>1983</th>\n",
              "      <th>1984</th>\n",
              "      <th>1985</th>\n",
              "      <th>1986</th>\n",
              "      <th>1987</th>\n",
              "      <th>1988</th>\n",
              "      <th>1989</th>\n",
              "      <th>1990</th>\n",
              "      <th>1991</th>\n",
              "      <th>1992</th>\n",
              "      <th>1993</th>\n",
              "      <th>1994</th>\n",
              "      <th>1995</th>\n",
              "      <th>1996</th>\n",
              "      <th>1997</th>\n",
              "      <th>1998</th>\n",
              "      <th>1999</th>\n",
              "      <th>2000</th>\n",
              "      <th>2001</th>\n",
              "      <th>2002</th>\n",
              "      <th>2003</th>\n",
              "      <th>2004</th>\n",
              "      <th>2005</th>\n",
              "      <th>2006</th>\n",
              "      <th>2007</th>\n",
              "      <th>2008</th>\n",
              "      <th>2009</th>\n",
              "      <th>2010</th>\n",
              "      <th>2011</th>\n",
              "      <th>2012</th>\n",
              "      <th>2013</th>\n",
              "      <th>Total</th>\n",
              "    </tr>\n",
              "    <tr>\n",
              "      <th>Country</th>\n",
              "      <th></th>\n",
              "      <th></th>\n",
              "      <th></th>\n",
              "      <th></th>\n",
              "      <th></th>\n",
              "      <th></th>\n",
              "      <th></th>\n",
              "      <th></th>\n",
              "      <th></th>\n",
              "      <th></th>\n",
              "      <th></th>\n",
              "      <th></th>\n",
              "      <th></th>\n",
              "      <th></th>\n",
              "      <th></th>\n",
              "      <th></th>\n",
              "      <th></th>\n",
              "      <th></th>\n",
              "      <th></th>\n",
              "      <th></th>\n",
              "      <th></th>\n",
              "      <th></th>\n",
              "      <th></th>\n",
              "      <th></th>\n",
              "      <th></th>\n",
              "      <th></th>\n",
              "      <th></th>\n",
              "      <th></th>\n",
              "      <th></th>\n",
              "      <th></th>\n",
              "      <th></th>\n",
              "      <th></th>\n",
              "      <th></th>\n",
              "      <th></th>\n",
              "      <th></th>\n",
              "    </tr>\n",
              "  </thead>\n",
              "  <tbody>\n",
              "    <tr>\n",
              "      <th>Denmark</th>\n",
              "      <td>272</td>\n",
              "      <td>293</td>\n",
              "      <td>299</td>\n",
              "      <td>106</td>\n",
              "      <td>93</td>\n",
              "      <td>73</td>\n",
              "      <td>93</td>\n",
              "      <td>109</td>\n",
              "      <td>129</td>\n",
              "      <td>129</td>\n",
              "      <td>118</td>\n",
              "      <td>111</td>\n",
              "      <td>158</td>\n",
              "      <td>186</td>\n",
              "      <td>93</td>\n",
              "      <td>111</td>\n",
              "      <td>70</td>\n",
              "      <td>83</td>\n",
              "      <td>63</td>\n",
              "      <td>81</td>\n",
              "      <td>93</td>\n",
              "      <td>81</td>\n",
              "      <td>70</td>\n",
              "      <td>89</td>\n",
              "      <td>89</td>\n",
              "      <td>62</td>\n",
              "      <td>101</td>\n",
              "      <td>97</td>\n",
              "      <td>108</td>\n",
              "      <td>81</td>\n",
              "      <td>92</td>\n",
              "      <td>93</td>\n",
              "      <td>94</td>\n",
              "      <td>81</td>\n",
              "      <td>3901</td>\n",
              "    </tr>\n",
              "    <tr>\n",
              "      <th>Sweden</th>\n",
              "      <td>281</td>\n",
              "      <td>308</td>\n",
              "      <td>222</td>\n",
              "      <td>176</td>\n",
              "      <td>128</td>\n",
              "      <td>158</td>\n",
              "      <td>187</td>\n",
              "      <td>198</td>\n",
              "      <td>171</td>\n",
              "      <td>182</td>\n",
              "      <td>130</td>\n",
              "      <td>167</td>\n",
              "      <td>179</td>\n",
              "      <td>203</td>\n",
              "      <td>192</td>\n",
              "      <td>176</td>\n",
              "      <td>161</td>\n",
              "      <td>151</td>\n",
              "      <td>123</td>\n",
              "      <td>170</td>\n",
              "      <td>138</td>\n",
              "      <td>184</td>\n",
              "      <td>149</td>\n",
              "      <td>161</td>\n",
              "      <td>129</td>\n",
              "      <td>205</td>\n",
              "      <td>139</td>\n",
              "      <td>193</td>\n",
              "      <td>165</td>\n",
              "      <td>167</td>\n",
              "      <td>159</td>\n",
              "      <td>134</td>\n",
              "      <td>140</td>\n",
              "      <td>140</td>\n",
              "      <td>5866</td>\n",
              "    </tr>\n",
              "    <tr>\n",
              "      <th>Norway</th>\n",
              "      <td>116</td>\n",
              "      <td>77</td>\n",
              "      <td>106</td>\n",
              "      <td>51</td>\n",
              "      <td>31</td>\n",
              "      <td>54</td>\n",
              "      <td>56</td>\n",
              "      <td>80</td>\n",
              "      <td>73</td>\n",
              "      <td>76</td>\n",
              "      <td>83</td>\n",
              "      <td>103</td>\n",
              "      <td>74</td>\n",
              "      <td>92</td>\n",
              "      <td>60</td>\n",
              "      <td>65</td>\n",
              "      <td>70</td>\n",
              "      <td>104</td>\n",
              "      <td>31</td>\n",
              "      <td>36</td>\n",
              "      <td>56</td>\n",
              "      <td>78</td>\n",
              "      <td>74</td>\n",
              "      <td>77</td>\n",
              "      <td>73</td>\n",
              "      <td>57</td>\n",
              "      <td>53</td>\n",
              "      <td>73</td>\n",
              "      <td>66</td>\n",
              "      <td>75</td>\n",
              "      <td>46</td>\n",
              "      <td>49</td>\n",
              "      <td>53</td>\n",
              "      <td>59</td>\n",
              "      <td>2327</td>\n",
              "    </tr>\n",
              "  </tbody>\n",
              "</table>\n",
              "</div>"
            ],
            "text/plain": [
              "         1980  1981  1982  1983  1984  ...  2010  2011  2012  2013  Total\n",
              "Country                                ...                               \n",
              "Denmark   272   293   299   106    93  ...    92    93    94    81   3901\n",
              "Sweden    281   308   222   176   128  ...   159   134   140   140   5866\n",
              "Norway    116    77   106    51    31  ...    46    49    53    59   2327\n",
              "\n",
              "[3 rows x 35 columns]"
            ]
          },
          "metadata": {},
          "execution_count": 7
        }
      ]
    },
    {
      "cell_type": "code",
      "metadata": {
        "id": "mxrXm6qsnkKt"
      },
      "source": [
        "Total_for_dsn = sum(df_dsn[\"Total\"])"
      ],
      "execution_count": null,
      "outputs": []
    },
    {
      "cell_type": "code",
      "metadata": {
        "colab": {
          "base_uri": "https://localhost:8080/"
        },
        "id": "0uIoH8Z9obRx",
        "outputId": "7d01748a-8858-4564-93af-3c3d212e7a62"
      },
      "source": [
        "Cp = [(float(value)/ Total_for_dsn) for value  in df_dsn[\"Total\"]]\n",
        "for idx, porsion in enumerate(Cp):\n",
        "  print (df_dsn.index.values[idx],porsion)"
      ],
      "execution_count": null,
      "outputs": [
        {
          "output_type": "stream",
          "name": "stdout",
          "text": [
            "Denmark 0.32255663965602777\n",
            "Sweden 0.48503390110798744\n",
            "Norway 0.1924094592359848\n"
          ]
        }
      ]
    },
    {
      "cell_type": "code",
      "metadata": {
        "colab": {
          "base_uri": "https://localhost:8080/"
        },
        "id": "Vs1buW7FnsPX",
        "outputId": "ad6efd8c-f8a5-412c-9b73-82f9b93bc342"
      },
      "source": [
        "Total_for_dsn"
      ],
      "execution_count": null,
      "outputs": [
        {
          "output_type": "execute_result",
          "data": {
            "text/plain": [
              "12094"
            ]
          },
          "metadata": {},
          "execution_count": 10
        }
      ]
    },
    {
      "cell_type": "code",
      "metadata": {
        "id": "H_HcwUQVp4Pd"
      },
      "source": [
        "Cp = []\n",
        "for value in df_dsn[\"Total\"]:\n",
        "  porsion = value/Total_for_dsn\n",
        "  Cp.append(porsion)"
      ],
      "execution_count": null,
      "outputs": []
    },
    {
      "cell_type": "code",
      "metadata": {
        "id": "OZFXYTLdqjAV"
      },
      "source": [
        "# 50 x 10\n",
        "width, height = (50,10)"
      ],
      "execution_count": null,
      "outputs": []
    },
    {
      "cell_type": "code",
      "metadata": {
        "colab": {
          "base_uri": "https://localhost:8080/"
        },
        "id": "It8-eCbQqvSr",
        "outputId": "22c72f62-ba5c-4eb8-f82f-78e904c38c50"
      },
      "source": [
        "total_titles = width * height\n",
        "total_titles"
      ],
      "execution_count": null,
      "outputs": [
        {
          "output_type": "execute_result",
          "data": {
            "text/plain": [
              "500"
            ]
          },
          "metadata": {},
          "execution_count": 13
        }
      ]
    },
    {
      "cell_type": "code",
      "metadata": {
        "colab": {
          "base_uri": "https://localhost:8080/"
        },
        "id": "s_MKw4NRrIjD",
        "outputId": "47144216-2afb-4318-f143-afebcf7e4561"
      },
      "source": [
        "titles_per_country = [round(propor * total_titles) for propor in Cp]\n",
        "titles_per_country"
      ],
      "execution_count": null,
      "outputs": [
        {
          "output_type": "execute_result",
          "data": {
            "text/plain": [
              "[161, 243, 96]"
            ]
          },
          "metadata": {},
          "execution_count": 14
        }
      ]
    },
    {
      "cell_type": "code",
      "metadata": {
        "id": "WmPY9oCFsQnW"
      },
      "source": [
        "nilai = [2,3,4,5,6]"
      ],
      "execution_count": null,
      "outputs": []
    },
    {
      "cell_type": "code",
      "metadata": {
        "colab": {
          "base_uri": "https://localhost:8080/"
        },
        "id": "BjyVQ-FAvKc9",
        "outputId": "c7165639-d20d-45c6-a1d1-f06cf172fa2b"
      },
      "source": [
        "kuadrat_nilai = [(n ** 2) for n in nilai]\n",
        "kuadrat_nilai"
      ],
      "execution_count": null,
      "outputs": [
        {
          "output_type": "execute_result",
          "data": {
            "text/plain": [
              "[4, 9, 16, 25, 36]"
            ]
          },
          "metadata": {},
          "execution_count": 16
        }
      ]
    },
    {
      "cell_type": "code",
      "metadata": {
        "colab": {
          "base_uri": "https://localhost:8080/"
        },
        "id": "1bJmpFq4vzkx",
        "outputId": "010f682b-8710-4ead-9d0b-5a84d8c55ad7"
      },
      "source": [
        "title_index = 0\n",
        "country_index = 0\n",
        "wafle = np.zeros((width,height ))\n",
        "for col in range(width):\n",
        "  for row in range(height):\n",
        "    title_index += 1\n",
        "    if title_index > sum(titles_per_country[0:country_index]):\n",
        "        country_index +=1\n",
        "\n",
        "    wafle[col, height - (row+1)] = country_index\n",
        "\n",
        "wafle"
      ],
      "execution_count": null,
      "outputs": [
        {
          "output_type": "execute_result",
          "data": {
            "text/plain": [
              "array([[1., 1., 1., 1., 1., 1., 1., 1., 1., 1.],\n",
              "       [1., 1., 1., 1., 1., 1., 1., 1., 1., 1.],\n",
              "       [1., 1., 1., 1., 1., 1., 1., 1., 1., 1.],\n",
              "       [1., 1., 1., 1., 1., 1., 1., 1., 1., 1.],\n",
              "       [1., 1., 1., 1., 1., 1., 1., 1., 1., 1.],\n",
              "       [1., 1., 1., 1., 1., 1., 1., 1., 1., 1.],\n",
              "       [1., 1., 1., 1., 1., 1., 1., 1., 1., 1.],\n",
              "       [1., 1., 1., 1., 1., 1., 1., 1., 1., 1.],\n",
              "       [1., 1., 1., 1., 1., 1., 1., 1., 1., 1.],\n",
              "       [1., 1., 1., 1., 1., 1., 1., 1., 1., 1.],\n",
              "       [1., 1., 1., 1., 1., 1., 1., 1., 1., 1.],\n",
              "       [1., 1., 1., 1., 1., 1., 1., 1., 1., 1.],\n",
              "       [1., 1., 1., 1., 1., 1., 1., 1., 1., 1.],\n",
              "       [1., 1., 1., 1., 1., 1., 1., 1., 1., 1.],\n",
              "       [1., 1., 1., 1., 1., 1., 1., 1., 1., 1.],\n",
              "       [1., 1., 1., 1., 1., 1., 1., 1., 1., 1.],\n",
              "       [2., 2., 2., 2., 2., 2., 2., 2., 2., 1.],\n",
              "       [2., 2., 2., 2., 2., 2., 2., 2., 2., 2.],\n",
              "       [2., 2., 2., 2., 2., 2., 2., 2., 2., 2.],\n",
              "       [2., 2., 2., 2., 2., 2., 2., 2., 2., 2.],\n",
              "       [2., 2., 2., 2., 2., 2., 2., 2., 2., 2.],\n",
              "       [2., 2., 2., 2., 2., 2., 2., 2., 2., 2.],\n",
              "       [2., 2., 2., 2., 2., 2., 2., 2., 2., 2.],\n",
              "       [2., 2., 2., 2., 2., 2., 2., 2., 2., 2.],\n",
              "       [2., 2., 2., 2., 2., 2., 2., 2., 2., 2.],\n",
              "       [2., 2., 2., 2., 2., 2., 2., 2., 2., 2.],\n",
              "       [2., 2., 2., 2., 2., 2., 2., 2., 2., 2.],\n",
              "       [2., 2., 2., 2., 2., 2., 2., 2., 2., 2.],\n",
              "       [2., 2., 2., 2., 2., 2., 2., 2., 2., 2.],\n",
              "       [2., 2., 2., 2., 2., 2., 2., 2., 2., 2.],\n",
              "       [2., 2., 2., 2., 2., 2., 2., 2., 2., 2.],\n",
              "       [2., 2., 2., 2., 2., 2., 2., 2., 2., 2.],\n",
              "       [2., 2., 2., 2., 2., 2., 2., 2., 2., 2.],\n",
              "       [2., 2., 2., 2., 2., 2., 2., 2., 2., 2.],\n",
              "       [2., 2., 2., 2., 2., 2., 2., 2., 2., 2.],\n",
              "       [2., 2., 2., 2., 2., 2., 2., 2., 2., 2.],\n",
              "       [2., 2., 2., 2., 2., 2., 2., 2., 2., 2.],\n",
              "       [2., 2., 2., 2., 2., 2., 2., 2., 2., 2.],\n",
              "       [2., 2., 2., 2., 2., 2., 2., 2., 2., 2.],\n",
              "       [2., 2., 2., 2., 2., 2., 2., 2., 2., 2.],\n",
              "       [3., 3., 3., 3., 3., 3., 2., 2., 2., 2.],\n",
              "       [3., 3., 3., 3., 3., 3., 3., 3., 3., 3.],\n",
              "       [3., 3., 3., 3., 3., 3., 3., 3., 3., 3.],\n",
              "       [3., 3., 3., 3., 3., 3., 3., 3., 3., 3.],\n",
              "       [3., 3., 3., 3., 3., 3., 3., 3., 3., 3.],\n",
              "       [3., 3., 3., 3., 3., 3., 3., 3., 3., 3.],\n",
              "       [3., 3., 3., 3., 3., 3., 3., 3., 3., 3.],\n",
              "       [3., 3., 3., 3., 3., 3., 3., 3., 3., 3.],\n",
              "       [3., 3., 3., 3., 3., 3., 3., 3., 3., 3.],\n",
              "       [3., 3., 3., 3., 3., 3., 3., 3., 3., 3.]])"
            ]
          },
          "metadata": {},
          "execution_count": 17
        }
      ]
    },
    {
      "cell_type": "code",
      "metadata": {
        "colab": {
          "base_uri": "https://localhost:8080/",
          "height": 210
        },
        "id": "wDbhQVMszH1J",
        "outputId": "45d24f5b-0ece-47fe-e019-10a0c01f52eb"
      },
      "source": [
        "import matplotlib.pyplot as plt\n",
        "fig = plt.figure\n",
        "colormap = plt.cm.coolwarm\n",
        "wafle = wafle.transpose()\n",
        "plt.matshow(wafle, cmap = colormap)\n",
        "plt.colorbar"
      ],
      "execution_count": null,
      "outputs": [
        {
          "output_type": "execute_result",
          "data": {
            "text/plain": [
              "<function matplotlib.pyplot.colorbar>"
            ]
          },
          "metadata": {},
          "execution_count": 18
        },
        {
          "output_type": "display_data",
          "data": {
            "image/png": "[encoded data removed]",
            "text/plain": [
              "<Figure size 1152x230.4 with 1 Axes>"
            ]
          },
          "metadata": {
            "needs_background": "light"
          }
        }
      ]
    },
    {
      "cell_type": "code",
      "metadata": {
        "colab": {
          "base_uri": "https://localhost:8080/"
        },
        "id": "SweQYIR72xQA",
        "outputId": "865bd71b-de7e-4cd9-d9c8-546e40ea427b"
      },
      "source": [
        "mac = 6 \n",
        "mylist = []\n",
        "\n",
        "for i in range(0,6):\n",
        "  mylist.append(mac-(i+1))\n",
        "mylist"
      ],
      "execution_count": null,
      "outputs": [
        {
          "output_type": "execute_result",
          "data": {
            "text/plain": [
              "[5, 4, 3, 2, 1, 0]"
            ]
          },
          "metadata": {},
          "execution_count": 19
        }
      ]
    },
    {
      "cell_type": "code",
      "metadata": {
        "colab": {
          "base_uri": "https://localhost:8080/",
          "height": 193
        },
        "id": "m6t-kT0g31No",
        "outputId": "ddb5c973-4e51-4894-cf22-ae407ed3cb69"
      },
      "source": [
        "fig = plt.figure\n",
        "colormap = plt.cm.coolwarm\n",
        "plt.matshow(wafle, cmap = colormap)\n",
        "ax = plt.gca()"
      ],
      "execution_count": null,
      "outputs": [
        {
          "output_type": "display_data",
          "data": {
            "image/png": "[encoded data removed]",
            "text/plain": [
              "<Figure size 1152x230.4 with 1 Axes>"
            ]
          },
          "metadata": {
            "needs_background": "light"
          }
        }
      ]
    },
    {
      "cell_type": "code",
      "metadata": {
        "colab": {
          "base_uri": "https://localhost:8080/",
          "height": 268
        },
        "id": "3nYuCGIB5lID",
        "outputId": "3bacaf98-4289-4f4a-924e-1507e529b459"
      },
      "source": [
        "ax.set_xticks(np.arange(-.5,width,1),minor=True)\n",
        "ax.set_yticks(np.arange(-.5,height,1),minor=True)\n",
        "ax.grid(which=\"minor\",color=\"w\", linestyle=\"-\",linewidth=2)\n",
        "plt.yticks([])\n",
        "plt.xticks([])"
      ],
      "execution_count": null,
      "outputs": [
        {
          "output_type": "execute_result",
          "data": {
            "text/plain": [
              "([], <a list of 0 Text major ticklabel objects>)"
            ]
          },
          "metadata": {},
          "execution_count": 21
        },
        {
          "output_type": "display_data",
          "data": {
            "image/png": "[encoded data removed]",
            "text/plain": [
              "<Figure size 432x288 with 1 Axes>"
            ]
          },
          "metadata": {}
        }
      ]
    },
    {
      "cell_type": "code",
      "metadata": {
        "id": "HFu1wjiS7_Gt"
      },
      "source": [
        "from wordcloud import WordCloud, STOPWORDS"
      ],
      "execution_count": null,
      "outputs": []
    },
    {
      "cell_type": "code",
      "metadata": {
        "colab": {
          "base_uri": "https://localhost:8080/"
        },
        "id": "vfZEVg1V874r",
        "outputId": "8ed8ea8d-5efa-4bfc-d995-b331e5767857"
      },
      "source": [
        "import requests\n",
        "url = 'https://raw.githubusercontent.com/ardhiraka/PFDS_sources/master/alice_novel.txt'\n",
        "r = requests.get(url, allow_redirects=True)\n",
        "open('alice.txt', 'wb').write(r.content)"
      ],
      "execution_count": null,
      "outputs": [
        {
          "output_type": "execute_result",
          "data": {
            "text/plain": [
              "145192"
            ]
          },
          "metadata": {},
          "execution_count": 23
        }
      ]
    },
    {
      "cell_type": "code",
      "metadata": {
        "colab": {
          "base_uri": "https://localhost:8080/",
          "height": 223
        },
        "id": "MM1xVfFh94-i",
        "outputId": "bf1c06be-2e10-4e25-ad00-d92fffab3eb3"
      },
      "source": [
        "alice_novel = open('./alice.txt','r').read()\n",
        "stopwords = set (STOPWORDS)\n",
        "\n",
        "alice_word_count_generator = WordCloud(\n",
        "    background_color = 'white',\n",
        "    max_words = 1000,\n",
        "    stopwords = stopwords\n",
        ")\n",
        "alice_novel\n",
        "alice_word_count_generator.generate(alice_novel)\n",
        "alice_word_count_generator"
      ],
      "execution_count": null,
      "outputs": [
        {
          "output_type": "error",
          "ename": "NameError",
          "evalue": "ignored",
          "traceback": [
            "\u001b[0;31m---------------------------------------------------------------------------\u001b[0m",
            "\u001b[0;31mNameError\u001b[0m                                 Traceback (most recent call last)",
            "\u001b[0;32m<ipython-input-27-588855cf39b6>\u001b[0m in \u001b[0;36m<module>\u001b[0;34m()\u001b[0m\n\u001b[1;32m      5\u001b[0m     \u001b[0mbackground_color\u001b[0m \u001b[0;34m=\u001b[0m \u001b[0;34m'white'\u001b[0m\u001b[0;34m,\u001b[0m\u001b[0;34m\u001b[0m\u001b[0;34m\u001b[0m\u001b[0m\n\u001b[1;32m      6\u001b[0m     \u001b[0mmax_words\u001b[0m \u001b[0;34m=\u001b[0m \u001b[0;36m1000\u001b[0m\u001b[0;34m,\u001b[0m\u001b[0;34m\u001b[0m\u001b[0;34m\u001b[0m\u001b[0m\n\u001b[0;32m----> 7\u001b[0;31m     \u001b[0mmask\u001b[0m \u001b[0;34m=\u001b[0m \u001b[0malice_mask\u001b[0m\u001b[0;34m,\u001b[0m\u001b[0;34m\u001b[0m\u001b[0;34m\u001b[0m\u001b[0m\n\u001b[0m\u001b[1;32m      8\u001b[0m     \u001b[0mstopwords\u001b[0m \u001b[0;34m=\u001b[0m \u001b[0mstopwords\u001b[0m\u001b[0;34m\u001b[0m\u001b[0;34m\u001b[0m\u001b[0m\n\u001b[1;32m      9\u001b[0m )\n",
            "\u001b[0;31mNameError\u001b[0m: name 'alice_mask' is not defined"
          ]
        }
      ]
    },
    {
      "cell_type": "code",
      "metadata": {
        "colab": {
          "base_uri": "https://localhost:8080/",
          "height": 197
        },
        "id": "F7XywxglA6p0",
        "outputId": "ca07f26e-bfcc-404f-8a1e-129fbd9542a7"
      },
      "source": [
        "plt.imshow(alice_word_count_generator, interpolation=\"bilinear\")\n",
        "plt.axis('off')\n",
        "plt.show()"
      ],
      "execution_count": null,
      "outputs": [
        {
          "output_type": "display_data",
          "data": {
            "image/png": "[encoded data removed]",
            "text/plain": [
              "<Figure size 432x288 with 1 Axes>"
            ]
          },
          "metadata": {
            "needs_background": "light"
          }
        }
      ]
    },
    {
      "cell_type": "code",
      "metadata": {
        "id": "7p1TKzJuBaCm"
      },
      "source": [
        "import seaborn as sns"
      ],
      "execution_count": null,
      "outputs": []
    },
    {
      "cell_type": "code",
      "metadata": {
        "id": "WJpif03WCnOz"
      },
      "source": [
        "df_total_year = pd.Dataframe(data_years)"
      ],
      "execution_count": null,
      "outputs": []
    }
  ]
}