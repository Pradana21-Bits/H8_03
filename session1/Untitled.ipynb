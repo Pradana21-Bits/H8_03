{
 "cells": [
  {
   "cell_type": "code",
   "execution_count": null,
   "id": "29506a68",
   "metadata": {},
   "outputs": [],
   "source": [
    "#condition\n",
    "#equals a == b\n",
    "#not equals a != b\n",
    "#more than a > b\n",
    "#less than a < b\n",
    "#more than equals a >= b \n",
    "#less than equals a <= b\n",
    "\n",
    "b = 20\n",
    "\n",
    "a = input (\"please input number\")\n",
    "a = int(a)\n",
    "\n",
    "if a == b :\n",
    "    print (\"eq\")\n",
    "else:\n",
    "    print(\"no eq\")\n",
    "    \n",
    "    # interger falsy 0\n",
    "    # string falsy \"\"\n",
    "    # list falsy []\n",
    "    # dictionary falsy {}\n",
    "    \n",
    "print (bool())"
   ]
  },
  {
   "cell_type": "code",
   "execution_count": null,
   "id": "7d668200",
   "metadata": {},
   "outputs": [],
   "source": [
    "a = int (input (\"please input number\"))\n",
    "\n",
    "if (a > 90 ):\n",
    "    print (\"A\")\n",
    "elif a > 70:\n",
    "    print(\"B\")\n",
    "elif a > 50:\n",
    "    print(\"C\")\n",
    "elif a > 30 :\n",
    "    print(\"D\")\n",
    "else :\n",
    "    print(\"E\")"
   ]
  },
  {
   "cell_type": "code",
   "execution_count": null,
   "id": "ead32bc6",
   "metadata": {},
   "outputs": [],
   "source": []
  }
 ],
 "metadata": {
  "kernelspec": {
   "display_name": "Python 3",
   "language": "python",
   "name": "python3"
  },
  "language_info": {
   "codemirror_mode": {
    "name": "ipython",
    "version": 3
   },
   "file_extension": ".py",
   "mimetype": "text/x-python",
   "name": "python",
   "nbconvert_exporter": "python",
   "pygments_lexer": "ipython3",
   "version": "3.8.8"
  }
 },
 "nbformat": 4,
 "nbformat_minor": 5
}
