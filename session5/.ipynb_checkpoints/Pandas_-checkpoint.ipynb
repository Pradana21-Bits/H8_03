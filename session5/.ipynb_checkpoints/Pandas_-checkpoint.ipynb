{
 "cells": [
  {
   "cell_type": "code",
   "execution_count": null,
   "metadata": {
    "id": "6lw6qaAmJ8-0"
   },
   "outputs": [],
   "source": [
    "import pandas as pd\n",
    "import numpy as np"
   ]
  },
  {
   "cell_type": "code",
   "execution_count": null,
   "metadata": {
    "colab": {
     "base_uri": "https://localhost:8080/"
    },
    "id": "LULG-ow3NmD5",
    "outputId": "dbecaacb-223d-4df6-c869-5e4b3055094b"
   },
   "outputs": [
    {
     "data": {
      "text/plain": [
       "0     2\n",
       "1     3\n",
       "2     4\n",
       "3    67\n",
       "4    89\n",
       "5    90\n",
       "6    99\n",
       "dtype: int64"
      ]
     },
     "execution_count": 16,
     "metadata": {},
     "output_type": "execute_result"
    }
   ],
   "source": [
    "my_series = pd.Series([2,3,4,67,89,90,99])\n",
    "my_series"
   ]
  },
  {
   "cell_type": "code",
   "execution_count": null,
   "metadata": {
    "colab": {
     "base_uri": "https://localhost:8080/"
    },
    "id": "ggjoykc0OMp1",
    "outputId": "318e078b-3f74-4422-f933-cb38886ff774"
   },
   "outputs": [
    {
     "data": {
      "text/plain": [
       "0      2\n",
       "2      3\n",
       "4      4\n",
       "6     67\n",
       "8     89\n",
       "10    90\n",
       "12    99\n",
       "dtype: int64"
      ]
     },
     "execution_count": 17,
     "metadata": {},
     "output_type": "execute_result"
    }
   ],
   "source": [
    "my_series.index = pd.RangeIndex(start=0 , step=2, stop=14)\n",
    "my_series"
   ]
  },
  {
   "cell_type": "code",
   "execution_count": null,
   "metadata": {
    "colab": {
     "base_uri": "https://localhost:8080/"
    },
    "id": "r_6-iduROprx",
    "outputId": "d084bdc3-a590-4bdf-84e9-cca12b634888"
   },
   "outputs": [
    {
     "data": {
      "text/plain": [
       "67"
      ]
     },
     "execution_count": 18,
     "metadata": {},
     "output_type": "execute_result"
    }
   ],
   "source": [
    "my_series[6]"
   ]
  },
  {
   "cell_type": "code",
   "execution_count": null,
   "metadata": {
    "id": "TvxZ6rcMOzAj"
   },
   "outputs": [],
   "source": [
    "my_series2 = pd.Series([2,3,4,67,89,90,99]), index\n",
    "my_series2"
   ]
  },
  {
   "cell_type": "code",
   "execution_count": null,
   "metadata": {
    "colab": {
     "base_uri": "https://localhost:8080/",
     "height": 126
    },
    "id": "iqqAL8DFPf6s",
    "outputId": "30f334f3-7f0d-419e-cba9-8442663b718b"
   },
   "outputs": [
    {
     "ename": "SyntaxError",
     "evalue": "ignored",
     "output_type": "error",
     "traceback": [
      "\u001b[0;36m  File \u001b[0;32m\"<ipython-input-26-7ddb89a5c0d2>\"\u001b[0;36m, line \u001b[0;32m1\u001b[0m\n\u001b[0;31m    my_series.attrs{\"nama\":[\"ezxa\"],\u001b[0m\n\u001b[0m                   ^\u001b[0m\n\u001b[0;31mSyntaxError\u001b[0m\u001b[0;31m:\u001b[0m invalid syntax\n"
     ]
    }
   ],
   "source": [
    "e#dictionary di pansad\n",
    "my_series.attrs {\"nama\":[\"ezxa\"],\n",
    "        \"umur\":[\"21\"]}\n",
    "my_series"
   ]
  },
  {
   "cell_type": "code",
   "execution_count": null,
   "metadata": {
    "colab": {
     "base_uri": "https://localhost:8080/"
    },
    "id": "CCu-N-XaTDCn",
    "outputId": "94376bb2-1835-4f6a-dc14-bda470883608"
   },
   "outputs": [
    {
     "data": {
      "text/plain": [
       "DatetimeIndex(['2021-10-07', '2021-10-08', '2021-10-09', '2021-10-10',\n",
       "               '2021-10-11', '2021-10-12', '2021-10-13', '2021-10-14',\n",
       "               '2021-10-15', '2021-10-16', '2021-10-17', '2021-10-18',\n",
       "               '2021-10-19', '2021-10-20', '2021-10-21', '2021-10-22',\n",
       "               '2021-10-23', '2021-10-24', '2021-10-25', '2021-10-26',\n",
       "               '2021-10-27', '2021-10-28', '2021-10-29', '2021-10-30',\n",
       "               '2021-10-31', '2021-11-01', '2021-11-02', '2021-11-03',\n",
       "               '2021-11-04', '2021-11-05', '2021-11-06', '2021-11-07',\n",
       "               '2021-11-08', '2021-11-09', '2021-11-10', '2021-11-11',\n",
       "               '2021-11-12', '2021-11-13', '2021-11-14', '2021-11-15',\n",
       "               '2021-11-16', '2021-11-17', '2021-11-18', '2021-11-19',\n",
       "               '2021-11-20', '2021-11-21', '2021-11-22', '2021-11-23',\n",
       "               '2021-11-24', '2021-11-25', '2021-11-26', '2021-11-27',\n",
       "               '2021-11-28', '2021-11-29', '2021-11-30', '2021-12-01',\n",
       "               '2021-12-02', '2021-12-03', '2021-12-04', '2021-12-05'],\n",
       "              dtype='datetime64[ns]', freq='D')"
      ]
     },
     "execution_count": 38,
     "metadata": {},
     "output_type": "execute_result"
    }
   ],
   "source": [
    "range = pd.date_range(start=\"10/7/2021\", periods=60 ,freq=\"D\")\n",
    "value = np.random.rand(0,100)\n",
    "range"
   ]
  },
  {
   "cell_type": "code",
   "execution_count": null,
   "metadata": {
    "colab": {
     "base_uri": "https://localhost:8080/",
     "height": 783
    },
    "id": "LhWPeJhsV7dK",
    "outputId": "2cbbcc5f-edbc-4005-9293-fbad8eb7622f"
   },
   "outputs": [
    {
     "ename": "TypeError",
     "evalue": "ignored",
     "output_type": "error",
     "traceback": [
      "\u001b[0;31m---------------------------------------------------------------------------\u001b[0m",
      "\u001b[0;31mTypeError\u001b[0m                                 Traceback (most recent call last)",
      "\u001b[0;32m<ipython-input-41-6ca934d20605>\u001b[0m in \u001b[0;36m<module>\u001b[0;34m()\u001b[0m\n\u001b[0;32m----> 1\u001b[0;31m \u001b[0mmy_series\u001b[0m\u001b[0;34m.\u001b[0m\u001b[0mplot\u001b[0m\u001b[0;34m(\u001b[0m\u001b[0mrange\u001b[0m\u001b[0;34m)\u001b[0m\u001b[0;34m\u001b[0m\u001b[0;34m\u001b[0m\u001b[0m\n\u001b[0m",
      "\u001b[0;32m/usr/local/lib/python3.7/dist-packages/pandas/plotting/_core.py\u001b[0m in \u001b[0;36m__call__\u001b[0;34m(self, *args, **kwargs)\u001b[0m\n\u001b[1;32m    870\u001b[0m \u001b[0;34m\u001b[0m\u001b[0m\n\u001b[1;32m    871\u001b[0m         x, y, kind, kwargs = self._get_call_args(\n\u001b[0;32m--> 872\u001b[0;31m             \u001b[0mplot_backend\u001b[0m\u001b[0;34m.\u001b[0m\u001b[0m__name__\u001b[0m\u001b[0;34m,\u001b[0m \u001b[0mself\u001b[0m\u001b[0;34m.\u001b[0m\u001b[0m_parent\u001b[0m\u001b[0;34m,\u001b[0m \u001b[0margs\u001b[0m\u001b[0;34m,\u001b[0m \u001b[0mkwargs\u001b[0m\u001b[0;34m\u001b[0m\u001b[0;34m\u001b[0m\u001b[0m\n\u001b[0m\u001b[1;32m    873\u001b[0m         )\n\u001b[1;32m    874\u001b[0m \u001b[0;34m\u001b[0m\u001b[0m\n",
      "\u001b[0;32m/usr/local/lib/python3.7/dist-packages/pandas/plotting/_core.py\u001b[0m in \u001b[0;36m_get_call_args\u001b[0;34m(backend_name, data, args, kwargs)\u001b[0m\n\u001b[1;32m    853\u001b[0m                 \u001b[0;34mf\"`Series.plot({positional_args})`.\"\u001b[0m\u001b[0;34m\u001b[0m\u001b[0;34m\u001b[0m\u001b[0m\n\u001b[1;32m    854\u001b[0m             )\n\u001b[0;32m--> 855\u001b[0;31m             \u001b[0;32mraise\u001b[0m \u001b[0mTypeError\u001b[0m\u001b[0;34m(\u001b[0m\u001b[0mmsg\u001b[0m\u001b[0;34m)\u001b[0m\u001b[0;34m\u001b[0m\u001b[0;34m\u001b[0m\u001b[0m\n\u001b[0m\u001b[1;32m    856\u001b[0m \u001b[0;34m\u001b[0m\u001b[0m\n\u001b[1;32m    857\u001b[0m         \u001b[0mpos_args\u001b[0m \u001b[0;34m=\u001b[0m \u001b[0;34m{\u001b[0m\u001b[0mname\u001b[0m\u001b[0;34m:\u001b[0m \u001b[0mvalue\u001b[0m \u001b[0;32mfor\u001b[0m \u001b[0mvalue\u001b[0m\u001b[0;34m,\u001b[0m \u001b[0;34m(\u001b[0m\u001b[0mname\u001b[0m\u001b[0;34m,\u001b[0m \u001b[0m_\u001b[0m\u001b[0;34m)\u001b[0m \u001b[0;32min\u001b[0m \u001b[0mzip\u001b[0m\u001b[0;34m(\u001b[0m\u001b[0margs\u001b[0m\u001b[0;34m,\u001b[0m \u001b[0marg_def\u001b[0m\u001b[0;34m)\u001b[0m\u001b[0;34m}\u001b[0m\u001b[0;34m\u001b[0m\u001b[0;34m\u001b[0m\u001b[0m\n",
      "\u001b[0;31mTypeError\u001b[0m: `Series.plot()` should not be called with positional arguments, only keyword arguments. The order of positional arguments will change in the future. Use `Series.plot(kind=DatetimeIndex(['2021-10-07', '2021-10-08', '2021-10-09', '2021-10-10',\n               '2021-10-11', '2021-10-12', '2021-10-13', '2021-10-14',\n               '2021-10-15', '2021-10-16', '2021-10-17', '2021-10-18',\n               '2021-10-19', '2021-10-20', '2021-10-21', '2021-10-22',\n               '2021-10-23', '2021-10-24', '2021-10-25', '2021-10-26',\n               '2021-10-27', '2021-10-28', '2021-10-29', '2021-10-30',\n               '2021-10-31', '2021-11-01', '2021-11-02', '2021-11-03',\n               '2021-11-04', '2021-11-05', '2021-11-06', '2021-11-07',\n               '2021-11-08', '2021-11-09', '2021-11-10', '2021-11-11',\n               '2021-11-12', '2021-11-13', '2021-11-14', '2021-11-15',\n               '2021-11-16', '2021-11-17', '2021-11-18', '2021-11-19',\n               '2021-11-20', '2021-11-21', '2021-11-22', '2021-11-23',\n               '2021-11-24', '2021-11-25', '2021-11-26', '2021-11-27',\n               '2021-11-28', '2021-11-29', '2021-11-30', '2021-12-01',\n               '2021-12-02', '2021-12-03', '2021-12-04', '2021-12-05'],\n              dtype='datetime64[ns]', freq='D'))` instead of `Series.plot(DatetimeIndex(['2021-10-07', '2021-10-08', '2021-10-09', '2021-10-10',\n               '2021-10-11', '2021-10-12', '2021-10-13', '2021-10-14',\n               '2021-10-15', '2021-10-16', '2021-10-17', '2021-10-18',\n               '2021-10-19', '2021-10-20', '2021-10-21', '2021-10-22',\n               '2021-10-23', '2021-10-24', '2021-10-25', '2021-10-26',\n               '2021-10-27', '2021-10-28', '2021-10-29', '2021-10-30',\n               '2021-10-31', '2021-11-01', '2021-11-02', '2021-11-03',\n               '2021-11-04', '2021-11-05', '2021-11-06', '2021-11-07',\n               '2021-11-08', '2021-11-09', '2021-11-10', '2021-11-11',\n               '2021-11-12', '2021-11-13', '2021-11-14', '2021-11-15',\n               '2021-11-16', '2021-11-17', '2021-11-18', '2021-11-19',\n               '2021-11-20', '2021-11-21', '2021-11-22', '2021-11-23',\n               '2021-11-24', '2021-11-25', '2021-11-26', '2021-11-27',\n               '2021-11-28', '2021-11-29', '2021-11-30', '2021-12-01',\n               '2021-12-02', '2021-12-03', '2021-12-04', '2021-12-05'],\n              dtype='datetime64[ns]', freq='D'),)`."
     ]
    }
   ],
   "source": [
    "my_series.plot(range)"
   ]
  },
  {
   "cell_type": "code",
   "execution_count": null,
   "metadata": {
    "colab": {
     "base_uri": "https://localhost:8080/",
     "height": 170
    },
    "id": "MOQmPx7zWO-C",
    "outputId": "8ff7829a-6b5f-4061-a988-63f927c2e574"
   },
   "outputs": [
    {
     "data": {
      "text/html": [
       "<div>\n",
       "<style scoped>\n",
       "    .dataframe tbody tr th:only-of-type {\n",
       "        vertical-align: middle;\n",
       "    }\n",
       "\n",
       "    .dataframe tbody tr th {\n",
       "        vertical-align: top;\n",
       "    }\n",
       "\n",
       "    .dataframe thead th {\n",
       "        text-align: right;\n",
       "    }\n",
       "</style>\n",
       "<table border=\"1\" class=\"dataframe\">\n",
       "  <thead>\n",
       "    <tr style=\"text-align: right;\">\n",
       "      <th></th>\n",
       "      <th>name</th>\n",
       "      <th>age</th>\n",
       "      <th>ipk</th>\n",
       "      <th>sks</th>\n",
       "    </tr>\n",
       "  </thead>\n",
       "  <tbody>\n",
       "    <tr>\n",
       "      <th>0</th>\n",
       "      <td>ego</td>\n",
       "      <td>2</td>\n",
       "      <td>2.5</td>\n",
       "      <td>80</td>\n",
       "    </tr>\n",
       "    <tr>\n",
       "      <th>1</th>\n",
       "      <td>munaroh</td>\n",
       "      <td>23</td>\n",
       "      <td>3.0</td>\n",
       "      <td>90</td>\n",
       "    </tr>\n",
       "    <tr>\n",
       "      <th>2</th>\n",
       "      <td>fatima</td>\n",
       "      <td>25</td>\n",
       "      <td>2.8</td>\n",
       "      <td>44</td>\n",
       "    </tr>\n",
       "    <tr>\n",
       "      <th>3</th>\n",
       "      <td>maimmunah</td>\n",
       "      <td>22</td>\n",
       "      <td>3.4</td>\n",
       "      <td>120</td>\n",
       "    </tr>\n",
       "  </tbody>\n",
       "</table>\n",
       "</div>"
      ],
      "text/plain": [
       "        name  age  ipk  sks\n",
       "0        ego    2  2.5   80\n",
       "1    munaroh   23  3.0   90\n",
       "2     fatima   25  2.8   44\n",
       "3  maimmunah   22  3.4  120"
      ]
     },
     "execution_count": 52,
     "metadata": {},
     "output_type": "execute_result"
    }
   ],
   "source": [
    "data = pd.DataFrame({'name': ['ego','munaroh','fatima','maimmunah'],\n",
    "          'age': [2,23,25,22],\n",
    "        'ipk': [2.5,3.0,2.8,3.4],\n",
    "        'sks': [80,90,44,120],\n",
    "              })\n",
    "data\n"
   ]
  },
  {
   "cell_type": "code",
   "execution_count": null,
   "metadata": {
    "colab": {
     "base_uri": "https://localhost:8080/",
     "height": 170
    },
    "id": "fQwfrmFXb6ln",
    "outputId": "47b0131a-9c98-4d31-c41e-180d59eae22f"
   },
   "outputs": [
    {
     "data": {
      "text/html": [
       "<div>\n",
       "<style scoped>\n",
       "    .dataframe tbody tr th:only-of-type {\n",
       "        vertical-align: middle;\n",
       "    }\n",
       "\n",
       "    .dataframe tbody tr th {\n",
       "        vertical-align: top;\n",
       "    }\n",
       "\n",
       "    .dataframe thead th {\n",
       "        text-align: right;\n",
       "    }\n",
       "</style>\n",
       "<table border=\"1\" class=\"dataframe\">\n",
       "  <thead>\n",
       "    <tr style=\"text-align: right;\">\n",
       "      <th></th>\n",
       "      <th>name</th>\n",
       "      <th>age</th>\n",
       "      <th>ipk</th>\n",
       "      <th>sks</th>\n",
       "      <th>kredit</th>\n",
       "    </tr>\n",
       "  </thead>\n",
       "  <tbody>\n",
       "    <tr>\n",
       "      <th>0</th>\n",
       "      <td>ego</td>\n",
       "      <td>2</td>\n",
       "      <td>2.5</td>\n",
       "      <td>80</td>\n",
       "      <td>200.0</td>\n",
       "    </tr>\n",
       "    <tr>\n",
       "      <th>1</th>\n",
       "      <td>munaroh</td>\n",
       "      <td>23</td>\n",
       "      <td>3.0</td>\n",
       "      <td>90</td>\n",
       "      <td>270.0</td>\n",
       "    </tr>\n",
       "    <tr>\n",
       "      <th>2</th>\n",
       "      <td>fatima</td>\n",
       "      <td>25</td>\n",
       "      <td>2.8</td>\n",
       "      <td>44</td>\n",
       "      <td>123.2</td>\n",
       "    </tr>\n",
       "    <tr>\n",
       "      <th>3</th>\n",
       "      <td>maimmunah</td>\n",
       "      <td>22</td>\n",
       "      <td>3.4</td>\n",
       "      <td>120</td>\n",
       "      <td>408.0</td>\n",
       "    </tr>\n",
       "  </tbody>\n",
       "</table>\n",
       "</div>"
      ],
      "text/plain": [
       "        name  age  ipk  sks  kredit\n",
       "0        ego    2  2.5   80   200.0\n",
       "1    munaroh   23  3.0   90   270.0\n",
       "2     fatima   25  2.8   44   123.2\n",
       "3  maimmunah   22  3.4  120   408.0"
      ]
     },
     "execution_count": 61,
     "metadata": {},
     "output_type": "execute_result"
    }
   ],
   "source": [
    "data[\"kredit\"] = data[\"ipk\"] * data[\"sks\"]\n",
    "data"
   ]
  },
  {
   "cell_type": "code",
   "execution_count": null,
   "metadata": {
    "colab": {
     "base_uri": "https://localhost:8080/",
     "height": 48
    },
    "id": "Huul1SxDZwEN",
    "outputId": "7ed15b74-7565-4d61-b6b1-4220444c9a0e"
   },
   "outputs": [
    {
     "data": {
      "text/html": [
       "<div>\n",
       "<style scoped>\n",
       "    .dataframe tbody tr th:only-of-type {\n",
       "        vertical-align: middle;\n",
       "    }\n",
       "\n",
       "    .dataframe tbody tr th {\n",
       "        vertical-align: top;\n",
       "    }\n",
       "\n",
       "    .dataframe thead th {\n",
       "        text-align: right;\n",
       "    }\n",
       "</style>\n",
       "<table border=\"1\" class=\"dataframe\">\n",
       "  <thead>\n",
       "    <tr style=\"text-align: right;\">\n",
       "      <th></th>\n",
       "      <th>name</th>\n",
       "      <th>age</th>\n",
       "      <th>ipk</th>\n",
       "      <th>sks</th>\n",
       "      <th>kredit</th>\n",
       "    </tr>\n",
       "  </thead>\n",
       "  <tbody>\n",
       "  </tbody>\n",
       "</table>\n",
       "</div>"
      ],
      "text/plain": [
       "Empty DataFrame\n",
       "Columns: [name, age, ipk, sks, kredit]\n",
       "Index: []"
      ]
     },
     "execution_count": 64,
     "metadata": {},
     "output_type": "execute_result"
    }
   ],
   "source": [
    "datam = data.filter(regex=\"m\", axis=0)\n",
    "datam"
   ]
  },
  {
   "cell_type": "code",
   "execution_count": null,
   "metadata": {
    "id": "ol5FJGeedb9E"
   },
   "outputs": [],
   "source": [
    "movierate=pd.read_csv('http://bit.ly/imdbratings')"
   ]
  },
  {
   "cell_type": "code",
   "execution_count": null,
   "metadata": {
    "colab": {
     "base_uri": "https://localhost:8080/",
     "height": 200
    },
    "id": "qXS-6IBBdhf8",
    "outputId": "dec3ad81-8bf4-4ae2-c79a-2765d71e3189"
   },
   "outputs": [
    {
     "data": {
      "text/html": [
       "<div>\n",
       "<style scoped>\n",
       "    .dataframe tbody tr th:only-of-type {\n",
       "        vertical-align: middle;\n",
       "    }\n",
       "\n",
       "    .dataframe tbody tr th {\n",
       "        vertical-align: top;\n",
       "    }\n",
       "\n",
       "    .dataframe thead th {\n",
       "        text-align: right;\n",
       "    }\n",
       "</style>\n",
       "<table border=\"1\" class=\"dataframe\">\n",
       "  <thead>\n",
       "    <tr style=\"text-align: right;\">\n",
       "      <th></th>\n",
       "      <th>star_rating</th>\n",
       "      <th>title</th>\n",
       "      <th>content_rating</th>\n",
       "      <th>genre</th>\n",
       "      <th>duration</th>\n",
       "      <th>actors_list</th>\n",
       "    </tr>\n",
       "  </thead>\n",
       "  <tbody>\n",
       "    <tr>\n",
       "      <th>0</th>\n",
       "      <td>9.3</td>\n",
       "      <td>The Shawshank Redemption</td>\n",
       "      <td>R</td>\n",
       "      <td>Crime</td>\n",
       "      <td>142</td>\n",
       "      <td>[u'Tim Robbins', u'Morgan Freeman', u'Bob Gunt...</td>\n",
       "    </tr>\n",
       "    <tr>\n",
       "      <th>1</th>\n",
       "      <td>9.2</td>\n",
       "      <td>The Godfather</td>\n",
       "      <td>R</td>\n",
       "      <td>Crime</td>\n",
       "      <td>175</td>\n",
       "      <td>[u'Marlon Brando', u'Al Pacino', u'James Caan']</td>\n",
       "    </tr>\n",
       "    <tr>\n",
       "      <th>2</th>\n",
       "      <td>9.1</td>\n",
       "      <td>The Godfather: Part II</td>\n",
       "      <td>R</td>\n",
       "      <td>Crime</td>\n",
       "      <td>200</td>\n",
       "      <td>[u'Al Pacino', u'Robert De Niro', u'Robert Duv...</td>\n",
       "    </tr>\n",
       "    <tr>\n",
       "      <th>3</th>\n",
       "      <td>9.0</td>\n",
       "      <td>The Dark Knight</td>\n",
       "      <td>PG-13</td>\n",
       "      <td>Action</td>\n",
       "      <td>152</td>\n",
       "      <td>[u'Christian Bale', u'Heath Ledger', u'Aaron E...</td>\n",
       "    </tr>\n",
       "    <tr>\n",
       "      <th>4</th>\n",
       "      <td>8.9</td>\n",
       "      <td>Pulp Fiction</td>\n",
       "      <td>R</td>\n",
       "      <td>Crime</td>\n",
       "      <td>154</td>\n",
       "      <td>[u'John Travolta', u'Uma Thurman', u'Samuel L....</td>\n",
       "    </tr>\n",
       "  </tbody>\n",
       "</table>\n",
       "</div>"
      ],
      "text/plain": [
       "   star_rating  ...                                        actors_list\n",
       "0          9.3  ...  [u'Tim Robbins', u'Morgan Freeman', u'Bob Gunt...\n",
       "1          9.2  ...    [u'Marlon Brando', u'Al Pacino', u'James Caan']\n",
       "2          9.1  ...  [u'Al Pacino', u'Robert De Niro', u'Robert Duv...\n",
       "3          9.0  ...  [u'Christian Bale', u'Heath Ledger', u'Aaron E...\n",
       "4          8.9  ...  [u'John Travolta', u'Uma Thurman', u'Samuel L....\n",
       "\n",
       "[5 rows x 6 columns]"
      ]
     },
     "execution_count": 69,
     "metadata": {},
     "output_type": "execute_result"
    }
   ],
   "source": [
    "movierate.head()"
   ]
  },
  {
   "cell_type": "code",
   "execution_count": null,
   "metadata": {
    "id": "doNoeZocdzxr"
   },
   "outputs": [],
   "source": [
    "asa =movierate[(movierate[\"duration\"] <= 100 ) & (movierate[\"star_rating\"] > 7)]"
   ]
  },
  {
   "cell_type": "code",
   "execution_count": null,
   "metadata": {
    "colab": {
     "base_uri": "https://localhost:8080/",
     "height": 408
    },
    "id": "6PhCV8nNgDh4",
    "outputId": "7d721635-1ff3-4533-eb26-61228204e5f0"
   },
   "outputs": [
    {
     "data": {
      "text/html": [
       "<div>\n",
       "<style scoped>\n",
       "    .dataframe tbody tr th:only-of-type {\n",
       "        vertical-align: middle;\n",
       "    }\n",
       "\n",
       "    .dataframe tbody tr th {\n",
       "        vertical-align: top;\n",
       "    }\n",
       "\n",
       "    .dataframe thead th {\n",
       "        text-align: right;\n",
       "    }\n",
       "</style>\n",
       "<table border=\"1\" class=\"dataframe\">\n",
       "  <thead>\n",
       "    <tr style=\"text-align: right;\">\n",
       "      <th></th>\n",
       "      <th>star_rating</th>\n",
       "      <th>title</th>\n",
       "      <th>content_rating</th>\n",
       "      <th>genre</th>\n",
       "      <th>duration</th>\n",
       "      <th>actors_list</th>\n",
       "    </tr>\n",
       "  </thead>\n",
       "  <tbody>\n",
       "    <tr>\n",
       "      <th>5</th>\n",
       "      <td>8.9</td>\n",
       "      <td>12 Angry Men</td>\n",
       "      <td>NOT RATED</td>\n",
       "      <td>Drama</td>\n",
       "      <td>96</td>\n",
       "      <td>[u'Henry Fonda', u'Lee J. Cobb', u'Martin Bals...</td>\n",
       "    </tr>\n",
       "    <tr>\n",
       "      <th>35</th>\n",
       "      <td>8.6</td>\n",
       "      <td>Modern Times</td>\n",
       "      <td>G</td>\n",
       "      <td>Comedy</td>\n",
       "      <td>87</td>\n",
       "      <td>[u'Charles Chaplin', u'Paulette Goddard', u'He...</td>\n",
       "    </tr>\n",
       "    <tr>\n",
       "      <th>29</th>\n",
       "      <td>8.6</td>\n",
       "      <td>City Lights</td>\n",
       "      <td>PASSED</td>\n",
       "      <td>Comedy</td>\n",
       "      <td>87</td>\n",
       "      <td>[u'Charles Chaplin', u'Virginia Cherrill', u'F...</td>\n",
       "    </tr>\n",
       "    <tr>\n",
       "      <th>48</th>\n",
       "      <td>8.5</td>\n",
       "      <td>Dr. Strangelove or: How I Learned to Stop Worr...</td>\n",
       "      <td>PG</td>\n",
       "      <td>Comedy</td>\n",
       "      <td>95</td>\n",
       "      <td>[u'Peter Sellers', u'George C. Scott', u'Sterl...</td>\n",
       "    </tr>\n",
       "    <tr>\n",
       "      <th>55</th>\n",
       "      <td>8.5</td>\n",
       "      <td>The Lion King</td>\n",
       "      <td>G</td>\n",
       "      <td>Animation</td>\n",
       "      <td>89</td>\n",
       "      <td>[u'Matthew Broderick', u'Jeremy Irons', u'Jame...</td>\n",
       "    </tr>\n",
       "    <tr>\n",
       "      <th>...</th>\n",
       "      <td>...</td>\n",
       "      <td>...</td>\n",
       "      <td>...</td>\n",
       "      <td>...</td>\n",
       "      <td>...</td>\n",
       "      <td>...</td>\n",
       "    </tr>\n",
       "    <tr>\n",
       "      <th>943</th>\n",
       "      <td>7.4</td>\n",
       "      <td>The Bucket List</td>\n",
       "      <td>PG-13</td>\n",
       "      <td>Adventure</td>\n",
       "      <td>97</td>\n",
       "      <td>[u'Jack Nicholson', u'Morgan Freeman', u'Sean ...</td>\n",
       "    </tr>\n",
       "    <tr>\n",
       "      <th>942</th>\n",
       "      <td>7.4</td>\n",
       "      <td>Raising Arizona</td>\n",
       "      <td>PG-13</td>\n",
       "      <td>Comedy</td>\n",
       "      <td>94</td>\n",
       "      <td>[u'Nicolas Cage', u'Holly Hunter', u'Trey Wils...</td>\n",
       "    </tr>\n",
       "    <tr>\n",
       "      <th>939</th>\n",
       "      <td>7.4</td>\n",
       "      <td>Predestination</td>\n",
       "      <td>R</td>\n",
       "      <td>Drama</td>\n",
       "      <td>97</td>\n",
       "      <td>[u'Ethan Hawke', u'Sarah Snook', u'Noah Taylor']</td>\n",
       "    </tr>\n",
       "    <tr>\n",
       "      <th>933</th>\n",
       "      <td>7.4</td>\n",
       "      <td>Beetlejuice</td>\n",
       "      <td>PG</td>\n",
       "      <td>Comedy</td>\n",
       "      <td>92</td>\n",
       "      <td>[u'Alec Baldwin', u'Geena Davis', u'Michael Ke...</td>\n",
       "    </tr>\n",
       "    <tr>\n",
       "      <th>971</th>\n",
       "      <td>7.4</td>\n",
       "      <td>Death at a Funeral</td>\n",
       "      <td>R</td>\n",
       "      <td>Comedy</td>\n",
       "      <td>90</td>\n",
       "      <td>[u'Matthew Macfadyen', u'Peter Dinklage', u'Ew...</td>\n",
       "    </tr>\n",
       "  </tbody>\n",
       "</table>\n",
       "<p>210 rows × 6 columns</p>\n",
       "</div>"
      ],
      "text/plain": [
       "     star_rating  ...                                        actors_list\n",
       "5            8.9  ...  [u'Henry Fonda', u'Lee J. Cobb', u'Martin Bals...\n",
       "35           8.6  ...  [u'Charles Chaplin', u'Paulette Goddard', u'He...\n",
       "29           8.6  ...  [u'Charles Chaplin', u'Virginia Cherrill', u'F...\n",
       "48           8.5  ...  [u'Peter Sellers', u'George C. Scott', u'Sterl...\n",
       "55           8.5  ...  [u'Matthew Broderick', u'Jeremy Irons', u'Jame...\n",
       "..           ...  ...                                                ...\n",
       "943          7.4  ...  [u'Jack Nicholson', u'Morgan Freeman', u'Sean ...\n",
       "942          7.4  ...  [u'Nicolas Cage', u'Holly Hunter', u'Trey Wils...\n",
       "939          7.4  ...   [u'Ethan Hawke', u'Sarah Snook', u'Noah Taylor']\n",
       "933          7.4  ...  [u'Alec Baldwin', u'Geena Davis', u'Michael Ke...\n",
       "971          7.4  ...  [u'Matthew Macfadyen', u'Peter Dinklage', u'Ew...\n",
       "\n",
       "[210 rows x 6 columns]"
      ]
     },
     "execution_count": 79,
     "metadata": {},
     "output_type": "execute_result"
    }
   ],
   "source": [
    "asa.sort_values(by=[\"star_rating\"], ascending=False)"
   ]
  },
  {
   "cell_type": "code",
   "execution_count": null,
   "metadata": {
    "colab": {
     "base_uri": "https://localhost:8080/",
     "height": 138
    },
    "id": "VT2MYhLHhTvP",
    "outputId": "19423b9c-fc89-4e28-e28a-eee05e254432"
   },
   "outputs": [
    {
     "data": {
      "text/html": [
       "<div>\n",
       "<style scoped>\n",
       "    .dataframe tbody tr th:only-of-type {\n",
       "        vertical-align: middle;\n",
       "    }\n",
       "\n",
       "    .dataframe tbody tr th {\n",
       "        vertical-align: top;\n",
       "    }\n",
       "\n",
       "    .dataframe thead th {\n",
       "        text-align: right;\n",
       "    }\n",
       "</style>\n",
       "<table border=\"1\" class=\"dataframe\">\n",
       "  <thead>\n",
       "    <tr style=\"text-align: right;\">\n",
       "      <th></th>\n",
       "      <th>star_rating</th>\n",
       "      <th>title</th>\n",
       "      <th>content_rating</th>\n",
       "      <th>genre</th>\n",
       "      <th>duration</th>\n",
       "      <th>actors_list</th>\n",
       "    </tr>\n",
       "  </thead>\n",
       "  <tbody>\n",
       "    <tr>\n",
       "      <th>5</th>\n",
       "      <td>8.9</td>\n",
       "      <td>12 Angry Men</td>\n",
       "      <td>NOT RATED</td>\n",
       "      <td>Drama</td>\n",
       "      <td>96</td>\n",
       "      <td>[u'Henry Fonda', u'Lee J. Cobb', u'Martin Bals...</td>\n",
       "    </tr>\n",
       "    <tr>\n",
       "      <th>201</th>\n",
       "      <td>8.1</td>\n",
       "      <td>12 Years a Slave</td>\n",
       "      <td>R</td>\n",
       "      <td>Biography</td>\n",
       "      <td>134</td>\n",
       "      <td>[u'Chiwetel Ejiofor', u'Michael Kenneth Willia...</td>\n",
       "    </tr>\n",
       "    <tr>\n",
       "      <th>698</th>\n",
       "      <td>7.6</td>\n",
       "      <td>127 Hours</td>\n",
       "      <td>R</td>\n",
       "      <td>Adventure</td>\n",
       "      <td>94</td>\n",
       "      <td>[u'James Franco', u'Amber Tamblyn', u'Kate Mara']</td>\n",
       "    </tr>\n",
       "  </tbody>\n",
       "</table>\n",
       "</div>"
      ],
      "text/plain": [
       "     star_rating  ...                                        actors_list\n",
       "5            8.9  ...  [u'Henry Fonda', u'Lee J. Cobb', u'Martin Bals...\n",
       "201          8.1  ...  [u'Chiwetel Ejiofor', u'Michael Kenneth Willia...\n",
       "698          7.6  ...  [u'James Franco', u'Amber Tamblyn', u'Kate Mara']\n",
       "\n",
       "[3 rows x 6 columns]"
      ]
     },
     "execution_count": 82,
     "metadata": {},
     "output_type": "execute_result"
    }
   ],
   "source": [
    "movierate[movierate.title.str.contains(\"^12\")]"
   ]
  }
 ],
 "metadata": {
  "colab": {
   "collapsed_sections": [],
   "name": "Pandas .ipynb",
   "provenance": []
  },
  "kernelspec": {
   "display_name": "Python 3",
   "language": "python",
   "name": "python3"
  },
  "language_info": {
   "codemirror_mode": {
    "name": "ipython",
    "version": 3
   },
   "file_extension": ".py",
   "mimetype": "text/x-python",
   "name": "python",
   "nbconvert_exporter": "python",
   "pygments_lexer": "ipython3",
   "version": "3.8.8"
  }
 },
 "nbformat": 4,
 "nbformat_minor": 1
}
