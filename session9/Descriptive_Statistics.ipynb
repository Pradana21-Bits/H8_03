{
 "cells": [
  {
   "cell_type": "code",
   "execution_count": null,
   "metadata": {
    "colab": {
     "base_uri": "https://localhost:8080/"
    },
    "id": "Os35s8XNU2J_",
    "outputId": "66138fa6-ad76-4686-fac9-5cb70625a445"
   },
   "outputs": [
    {
     "name": "stdout",
     "output_type": "stream",
     "text": [
      "[8.0, 1, 2, 1.5, 8, 17]\n",
      "[8.0, 1, 2, nan, 1.5, 8, 17]\n"
     ]
    }
   ],
   "source": [
    "import math\n",
    "import statistics\n",
    "import numpy as np\n",
    "import scipy.stats\n",
    "import pandas as pd\n",
    "\n",
    "x = [8.0, 1,2,1.5,8, 17]\n",
    "x_with_nan = [8.0, 1,2, math.nan,1.5,8, 17]\n",
    "\n",
    "print(x)\n",
    "print(x_with_nan)"
   ]
  },
  {
   "cell_type": "code",
   "execution_count": null,
   "metadata": {
    "colab": {
     "base_uri": "https://localhost:8080/"
    },
    "id": "iCK4_NmHdZHo",
    "outputId": "0af74b77-87c1-4903-8916-0b3cd4a03788"
   },
   "outputs": [
    {
     "name": "stdout",
     "output_type": "stream",
     "text": [
      "[ 8.   1.   2.   1.5  8.  17. ]\n",
      "[ 8.   1.   2.   nan  1.5  8.  17. ]\n",
      "0     8.0\n",
      "1     1.0\n",
      "2     2.0\n",
      "3     NaN\n",
      "4     1.5\n",
      "5     8.0\n",
      "6    17.0\n",
      "dtype: float64\n"
     ]
    }
   ],
   "source": [
    "y, y_with_nan = np.array(x), np.array(x_with_nan)\n",
    "z, z_with_nan = pd.Series(x), pd.Series(x_with_nan)\n",
    "print(y)\n",
    "print(y_with_nan)\n",
    "print(z_with_nan)"
   ]
  },
  {
   "cell_type": "markdown",
   "metadata": {
    "id": "y8xDVUPfe3xR"
   },
   "source": [
    "#mean"
   ]
  },
  {
   "cell_type": "code",
   "execution_count": null,
   "metadata": {
    "colab": {
     "base_uri": "https://localhost:8080/"
    },
    "id": "1IfdjYZieBxt",
    "outputId": "1db9ca9b-7776-4910-9f7a-df415e086912"
   },
   "outputs": [
    {
     "data": {
      "text/plain": [
       "6.25"
      ]
     },
     "execution_count": 3,
     "metadata": {},
     "output_type": "execute_result"
    }
   ],
   "source": [
    "mean_ = sum(x) / len(x)\n",
    "mean_"
   ]
  },
  {
   "cell_type": "code",
   "execution_count": null,
   "metadata": {
    "colab": {
     "base_uri": "https://localhost:8080/"
    },
    "id": "5o-YkThweUy7",
    "outputId": "d2625c6b-64da-4848-8a04-d1a6d9f4a302"
   },
   "outputs": [
    {
     "name": "stdout",
     "output_type": "stream",
     "text": [
      "6.25\n"
     ]
    }
   ],
   "source": [
    "mean_ = statistics.mean(x)\n",
    "print(mean_)"
   ]
  },
  {
   "cell_type": "code",
   "execution_count": null,
   "metadata": {
    "colab": {
     "base_uri": "https://localhost:8080/"
    },
    "id": "3iBPtF_feTMk",
    "outputId": "44d6216e-629c-4810-fb45-c23a1edbe4ab"
   },
   "outputs": [
    {
     "name": "stdout",
     "output_type": "stream",
     "text": [
      "nan\n"
     ]
    }
   ],
   "source": [
    "mean_ = statistics.mean(x_with_nan)\n",
    "print(mean_)\n"
   ]
  },
  {
   "cell_type": "code",
   "execution_count": null,
   "metadata": {
    "colab": {
     "base_uri": "https://localhost:8080/"
    },
    "id": "jFeruoodeXC8",
    "outputId": "57088c0d-0af8-4b0b-9d45-0cd3c22097f7"
   },
   "outputs": [
    {
     "data": {
      "text/plain": [
       "6.25"
      ]
     },
     "execution_count": 6,
     "metadata": {},
     "output_type": "execute_result"
    }
   ],
   "source": [
    "mean_ = np.mean(y)\n",
    "mean_\n"
   ]
  },
  {
   "cell_type": "code",
   "execution_count": null,
   "metadata": {
    "id": "MQt6Qz8hhkPt"
   },
   "outputs": [],
   "source": [
    "w = [0.7,0.8,0.1,0.2,0.3,0.7]"
   ]
  },
  {
   "cell_type": "code",
   "execution_count": null,
   "metadata": {
    "colab": {
     "base_uri": "https://localhost:8080/"
    },
    "id": "eYNzu1-uh4X2",
    "outputId": "fa102dc0-7e3b-47e3-bdac-be1d3a49df0e"
   },
   "outputs": [
    {
     "name": "stdout",
     "output_type": "stream",
     "text": [
      "7.57142857142857\n"
     ]
    }
   ],
   "source": [
    "wmean = sum(w[i] * x[i] for i in range(len(x))) / sum(w)\n",
    "wmean\n",
    "\n",
    "wmean = sum(x_ * w_ for (x_, w_) in zip(x, w)) / sum(w)\n",
    "print(wmean)"
   ]
  },
  {
   "cell_type": "code",
   "execution_count": null,
   "metadata": {
    "colab": {
     "base_uri": "https://localhost:8080/"
    },
    "id": "ZvRAjr4ajdkJ",
    "outputId": "25d24ce5-0084-43fa-cd6a-84e8f04fdd27"
   },
   "outputs": [
    {
     "data": {
      "text/plain": [
       "7.57142857142857"
      ]
     },
     "execution_count": 9,
     "metadata": {},
     "output_type": "execute_result"
    }
   ],
   "source": [
    "wmean = np.average(y, weights=w)\n",
    "wmean"
   ]
  },
  {
   "cell_type": "markdown",
   "metadata": {
    "id": "tDV9ubTzlGso"
   },
   "source": [
    "#hmean\n"
   ]
  },
  {
   "cell_type": "code",
   "execution_count": null,
   "metadata": {
    "colab": {
     "base_uri": "https://localhost:8080/"
    },
    "id": "jwXqJZPClJzZ",
    "outputId": "e0ac1993-5a25-4b19-e82b-8621fd80b32f"
   },
   "outputs": [
    {
     "data": {
      "text/plain": [
       "2.423762376237624"
      ]
     },
     "execution_count": 10,
     "metadata": {},
     "output_type": "execute_result"
    }
   ],
   "source": [
    "hmean = len(x) / sum(1 / i for i in x)\n",
    "hmean"
   ]
  },
  {
   "cell_type": "code",
   "execution_count": null,
   "metadata": {
    "colab": {
     "base_uri": "https://localhost:8080/"
    },
    "id": "N0ZtwcowlvX_",
    "outputId": "7185ad05-b2bc-48b0-d883-36d66d040aa2"
   },
   "outputs": [
    {
     "data": {
      "text/plain": [
       "2.4237623762376237"
      ]
     },
     "execution_count": 11,
     "metadata": {},
     "output_type": "execute_result"
    }
   ],
   "source": [
    "hmean = statistics.harmonic_mean(x)\n",
    "hmean"
   ]
  },
  {
   "cell_type": "markdown",
   "metadata": {
    "id": "WScxr9eql6Nh"
   },
   "source": [
    "\n",
    "\n",
    "#gmean"
   ]
  },
  {
   "cell_type": "code",
   "execution_count": null,
   "metadata": {
    "colab": {
     "base_uri": "https://localhost:8080/"
    },
    "id": "xHEnUCKMl8Cz",
    "outputId": "0e0360f3-4816-48d5-98c1-b68220ccbafe"
   },
   "outputs": [
    {
     "name": "stdout",
     "output_type": "stream",
     "text": [
      "0.5916079783099616 0.5773502691896257\n"
     ]
    }
   ],
   "source": [
    "geomeanlaptop = math.sqrt(1/20 * 7)\n",
    "geomeanlaptop2 = math.sqrt(1/12 * 4)\n",
    "print(geomeanlaptop,geomeanlaptop2)\n"
   ]
  },
  {
   "cell_type": "markdown",
   "metadata": {
    "id": "IGvBN2L0gep9"
   },
   "source": [
    "#median"
   ]
  },
  {
   "cell_type": "code",
   "execution_count": null,
   "metadata": {
    "colab": {
     "base_uri": "https://localhost:8080/"
    },
    "id": "PWJLPLhDpYir",
    "outputId": "b0a31afb-d5c7-409f-9372-79725d63cdb2"
   },
   "outputs": [
    {
     "data": {
      "text/plain": [
       "[0.1, 0.2, 0.3, 0.7, 0.7, 0.8]"
      ]
     },
     "execution_count": 13,
     "metadata": {},
     "output_type": "execute_result"
    }
   ],
   "source": [
    "mediandata = [0.7,0.8,0.1,0.2,0.3,0.7]\n",
    "mediandata.sort()\n",
    "mediandata"
   ]
  },
  {
   "cell_type": "code",
   "execution_count": null,
   "metadata": {
    "colab": {
     "base_uri": "https://localhost:8080/"
    },
    "id": "9etKrqAeplPv",
    "outputId": "192576c2-26fa-4b80-aedb-6e7b509aa09a"
   },
   "outputs": [
    {
     "data": {
      "text/plain": [
       "0.3"
      ]
     },
     "execution_count": 14,
     "metadata": {},
     "output_type": "execute_result"
    }
   ],
   "source": [
    "medstat = statistics.median_low(mediandata)\n",
    "medstat"
   ]
  },
  {
   "cell_type": "code",
   "execution_count": null,
   "metadata": {
    "colab": {
     "base_uri": "https://localhost:8080/"
    },
    "id": "nXNZbjwBpr4A",
    "outputId": "6681cdac-844b-48c9-d461-9c679bc4af51"
   },
   "outputs": [
    {
     "data": {
      "text/plain": [
       "0.7"
      ]
     },
     "execution_count": 15,
     "metadata": {},
     "output_type": "execute_result"
    }
   ],
   "source": [
    "medstat = statistics.median_high(mediandata)\n",
    "medstat"
   ]
  },
  {
   "cell_type": "code",
   "execution_count": null,
   "metadata": {
    "colab": {
     "base_uri": "https://localhost:8080/"
    },
    "id": "BwOe00C-fC7d",
    "outputId": "9303420a-a51f-46ce-d907-fe6b9aef8fbc"
   },
   "outputs": [
    {
     "data": {
      "text/plain": [
       "0.5"
      ]
     },
     "execution_count": 16,
     "metadata": {},
     "output_type": "execute_result"
    }
   ],
   "source": [
    "w = [0.7,0.8,0.1,0.2,0.3,0.7]\n",
    "n = len(w)\n",
    "if n % 2:\n",
    "    median_ = sorted(w)[round(0.5*(n-1))]\n",
    "else:\n",
    "    x_ord, index = sorted(w), round(0.5 * n)\n",
    "    median_ = 0.5 * (x_ord[index-1] + x_ord[index])\n",
    "\n",
    "median_"
   ]
  },
  {
   "cell_type": "markdown",
   "metadata": {
    "id": "6OmApL-pggxN"
   },
   "source": [
    "#modus"
   ]
  },
  {
   "cell_type": "code",
   "execution_count": null,
   "metadata": {
    "colab": {
     "base_uri": "https://localhost:8080/"
    },
    "id": "TbiDNxNjfXc7",
    "outputId": "f6f15282-fde8-4702-b63c-f615b75236fa"
   },
   "outputs": [
    {
     "data": {
      "text/plain": [
       "1"
      ]
     },
     "execution_count": 17,
     "metadata": {},
     "output_type": "execute_result"
    }
   ],
   "source": [
    "modusdata = [1,1,1,3,4,5,6,7,8,9,1]\n",
    "modus = max(((modusdata.count(item),item) for item in set (modusdata)))[1]\n",
    "modus"
   ]
  },
  {
   "cell_type": "code",
   "execution_count": null,
   "metadata": {
    "colab": {
     "base_uri": "https://localhost:8080/"
    },
    "id": "7sG0pZV_qyIZ",
    "outputId": "8bc355d2-1d8a-407a-dbdb-ad6e7d0ed1a7"
   },
   "outputs": [
    {
     "data": {
      "text/plain": [
       "1"
      ]
     },
     "execution_count": 18,
     "metadata": {},
     "output_type": "execute_result"
    }
   ],
   "source": [
    "modusstat = statistics.mode(modusdata)\n",
    "modusstat"
   ]
  },
  {
   "cell_type": "markdown",
   "metadata": {
    "id": "-AmhQ8hrr5Ob"
   },
   "source": [
    "#variance\n"
   ]
  },
  {
   "cell_type": "code",
   "execution_count": null,
   "metadata": {
    "colab": {
     "base_uri": "https://localhost:8080/"
    },
    "id": "0jTrSElyr6dr",
    "outputId": "5162500a-934c-4b34-be5d-3bc51ecfeb77"
   },
   "outputs": [
    {
     "name": "stdout",
     "output_type": "stream",
     "text": [
      "9.163636363636362 9.163636363636364\n"
     ]
    }
   ],
   "source": [
    "varstate = statistics.variance(modusdata)\n",
    "mean_ = sum(modusdata) / len(modusdata)\n",
    "\n",
    "var_ = sum((item - mean_)**2 for item in modusdata)/(len(modusdata) -1)\n",
    "print(var_,varstate)"
   ]
  },
  {
   "cell_type": "code",
   "execution_count": null,
   "metadata": {
    "colab": {
     "base_uri": "https://localhost:8080/"
    },
    "id": "WIMW50X8sZAP",
    "outputId": "468a16b5-bf8a-4be7-f1ca-9b4e919d6234"
   },
   "outputs": [
    {
     "name": "stdout",
     "output_type": "stream",
     "text": [
      "3.027149874657078 3.027149874657078\n"
     ]
    }
   ],
   "source": [
    "stdvq = math.sqrt(var_)\n",
    "stdvstate =  statistics.stdev(modusdata)\n",
    "print(stdvq,stdvstate)"
   ]
  },
  {
   "cell_type": "markdown",
   "metadata": {
    "id": "QalEq2SGtC1G"
   },
   "source": [
    "#Skewness"
   ]
  },
  {
   "cell_type": "code",
   "execution_count": null,
   "metadata": {
    "colab": {
     "base_uri": "https://localhost:8080/"
    },
    "id": "U0Yj3oAgtD9e",
    "outputId": "2a98e511-3b7a-4401-f0b3-fd26043613ad"
   },
   "outputs": [
    {
     "data": {
      "text/plain": [
       "0.24935156205469858"
      ]
     },
     "execution_count": 21,
     "metadata": {},
     "output_type": "execute_result"
    }
   ],
   "source": [
    "Skewnes = scipy.stats.skew(modusdata)\n",
    "Skewnes"
   ]
  },
  {
   "cell_type": "markdown",
   "metadata": {
    "id": "7Thpih8FuOxP"
   },
   "source": [
    "#Percentiles"
   ]
  },
  {
   "cell_type": "code",
   "execution_count": null,
   "metadata": {
    "colab": {
     "base_uri": "https://localhost:8080/"
    },
    "id": "rlGl-1i7uqt6",
    "outputId": "2bbf4f3c-c997-4f38-94d0-462cffb83d82"
   },
   "outputs": [
    {
     "data": {
      "text/plain": [
       "[1, 1, 1, 3, 4, 5, 6, 7, 8, 9, 1]"
      ]
     },
     "execution_count": 22,
     "metadata": {},
     "output_type": "execute_result"
    }
   ],
   "source": [
    "modusdata"
   ]
  },
  {
   "cell_type": "code",
   "execution_count": null,
   "metadata": {
    "colab": {
     "base_uri": "https://localhost:8080/"
    },
    "id": "4GpkCtjauP9p",
    "outputId": "b78fcb22-aabd-4767-9bdf-ea944cbacea7"
   },
   "outputs": [
    {
     "data": {
      "text/plain": [
       "4.0"
      ]
     },
     "execution_count": 23,
     "metadata": {},
     "output_type": "execute_result"
    }
   ],
   "source": [
    "FivePercentiles = np.percentile(modusdata,50)\n",
    "FivePercentiles"
   ]
  },
  {
   "cell_type": "markdown",
   "metadata": {
    "id": "nN_73uzguwPU"
   },
   "source": [
    "#range"
   ]
  },
  {
   "cell_type": "code",
   "execution_count": null,
   "metadata": {
    "colab": {
     "base_uri": "https://localhost:8080/"
    },
    "id": "kIfckjc7uyCL",
    "outputId": "1c06310a-519b-4cb4-cc18-8c3e0bd14e3a"
   },
   "outputs": [
    {
     "data": {
      "text/plain": [
       "8"
      ]
     },
     "execution_count": 24,
     "metadata": {},
     "output_type": "execute_result"
    }
   ],
   "source": [
    "datarange = max(modusdata) - min(modusdata)\n",
    "datarange"
   ]
  },
  {
   "cell_type": "code",
   "execution_count": null,
   "metadata": {
    "colab": {
     "base_uri": "https://localhost:8080/"
    },
    "id": "7E12pJUdvCu6",
    "outputId": "8de0042b-bf7e-4f7b-8bec-90dd3c734cac"
   },
   "outputs": [
    {
     "data": {
      "text/plain": [
       "DescribeResult(nobs=11, minmax=(1, 9), mean=4.181818181818182, variance=9.163636363636364, skewness=0.24935156205469858, kurtosis=-1.3784722222222225)"
      ]
     },
     "execution_count": 25,
     "metadata": {},
     "output_type": "execute_result"
    }
   ],
   "source": [
    "describedata = scipy.stats.describe(modusdata)\n",
    "describedata"
   ]
  },
  {
   "cell_type": "code",
   "execution_count": null,
   "metadata": {
    "colab": {
     "base_uri": "https://localhost:8080/"
    },
    "id": "tkz9LPa_v0B9",
    "outputId": "70c93dfd-4e9f-42da-fbc8-18b5836da169"
   },
   "outputs": [
    {
     "name": "stdout",
     "output_type": "stream",
     "text": [
      "[0 1 2 3 4 5 6 7 8 9] [0.86380464 0.1147872  0.34527371 0.58716879 0.48947516 0.20526173\n",
      " 0.63573999 0.49820196 0.51899699 0.96940018]\n"
     ]
    }
   ],
   "source": [
    "x = np.array(range(0,10))\n",
    "y = np.random.rand(10)\n",
    "print(x,y)"
   ]
  },
  {
   "cell_type": "code",
   "execution_count": null,
   "metadata": {
    "colab": {
     "base_uri": "https://localhost:8080/"
    },
    "id": "9fL_9p_3xDRX",
    "outputId": "459c4609-b82b-49d6-afa9-9810492d40ca"
   },
   "outputs": [
    {
     "data": {
      "text/plain": [
       "array([[9.16666667, 0.2447761 ],\n",
       "       [0.2447761 , 0.07035392]])"
      ]
     },
     "execution_count": 27,
     "metadata": {},
     "output_type": "execute_result"
    }
   ],
   "source": [
    "civarianxy =np.cov(x,y)\n",
    "civarianxy\n"
   ]
  },
  {
   "cell_type": "markdown",
   "metadata": {
    "id": "n4iO-arsyj8J"
   },
   "source": [
    "#2D data"
   ]
  },
  {
   "cell_type": "code",
   "execution_count": null,
   "metadata": {
    "colab": {
     "base_uri": "https://localhost:8080/"
    },
    "id": "cFXsObIWyl60",
    "outputId": "51897436-9779-4603-99cd-be9d001d7d0e"
   },
   "outputs": [
    {
     "data": {
      "text/plain": [
       "array([[ 1,  1,  1],\n",
       "       [ 1,  2,  4],\n",
       "       [ 4,  9,  2],\n",
       "       [ 8, 27,  4]])"
      ]
     },
     "execution_count": 42,
     "metadata": {},
     "output_type": "execute_result"
    }
   ],
   "source": [
    "twod = np.array(\n",
    "    [[1, 1, 1],\n",
    "     [1, 2, 4],\n",
    "     [4, 9, 2],\n",
    "     [8, 27, 4]])\n",
    "twod"
   ]
  },
  {
   "cell_type": "code",
   "execution_count": null,
   "metadata": {
    "colab": {
     "base_uri": "https://localhost:8080/"
    },
    "id": "WgoEJpduzK8u",
    "outputId": "ac571d59-58bf-40d8-fca4-7d622e7b1b7a"
   },
   "outputs": [
    {
     "data": {
      "text/plain": [
       "5.333333333333333"
      ]
     },
     "execution_count": 43,
     "metadata": {},
     "output_type": "execute_result"
    }
   ],
   "source": [
    "np.mean(twod)"
   ]
  },
  {
   "cell_type": "code",
   "execution_count": null,
   "metadata": {
    "colab": {
     "base_uri": "https://localhost:8080/"
    },
    "id": "w9CD48ATzOEQ",
    "outputId": "4c8b5ef1-7160-4f05-f81c-7826060a9676"
   },
   "outputs": [
    {
     "data": {
      "text/plain": [
       "3.0"
      ]
     },
     "execution_count": 44,
     "metadata": {},
     "output_type": "execute_result"
    }
   ],
   "source": [
    "np.median(twod)"
   ]
  },
  {
   "cell_type": "code",
   "execution_count": null,
   "metadata": {
    "colab": {
     "base_uri": "https://localhost:8080/"
    },
    "id": "3VJvUaVhziMH",
    "outputId": "4b43ce7f-bbc2-4da4-8ff6-b912d59d27b9"
   },
   "outputs": [
    {
     "name": "stdout",
     "output_type": "stream",
     "text": [
      "[3.5  9.75 2.75] [ 1.          2.33333333  5.         13.        ]\n"
     ]
    }
   ],
   "source": [
    "xmed = np.mean(twod , axis=0)\n",
    "ymed = np.mean(twod , axis=1)\n",
    "print(xmed,ymed)"
   ]
  },
  {
   "cell_type": "code",
   "execution_count": null,
   "metadata": {
    "colab": {
     "base_uri": "https://localhost:8080/"
    },
    "id": "QpKftlOVzu0z",
    "outputId": "1b2a2916-d0be-4a88-af9a-0394e9a400f5"
   },
   "outputs": [
    {
     "data": {
      "text/plain": [
       "array([2.37841423, 4.69525374, 2.37841423])"
      ]
     },
     "execution_count": 46,
     "metadata": {},
     "output_type": "execute_result"
    }
   ],
   "source": [
    "scipy.stats.gmean(twod)"
   ]
  },
  {
   "cell_type": "code",
   "execution_count": null,
   "metadata": {
    "colab": {
     "base_uri": "https://localhost:8080/"
    },
    "id": "hSaQg8tZzzJF",
    "outputId": "ae23bf69-c969-467a-d9a6-b6db782f9bd8"
   },
   "outputs": [
    {
     "data": {
      "text/plain": [
       "array([1.        , 2.        , 4.16016765, 9.52440631])"
      ]
     },
     "execution_count": 47,
     "metadata": {},
     "output_type": "execute_result"
    }
   ],
   "source": [
    "scipy.stats.gmean(twod, axis=1)"
   ]
  },
  {
   "cell_type": "code",
   "execution_count": null,
   "metadata": {
    "colab": {
     "base_uri": "https://localhost:8080/"
    },
    "id": "T3Ey2T2yz6FX",
    "outputId": "f04d4954-4eef-4071-f8c9-a4784bda17a2"
   },
   "outputs": [
    {
     "data": {
      "text/plain": [
       "DescribeResult(nobs=4, minmax=(array([1, 1, 1]), array([ 8, 27,  4])), mean=array([3.5 , 9.75, 2.75]), variance=array([ 11.        , 144.91666667,   2.25      ]), skewness=array([ 0.63300966,  0.88189796, -0.21383343]), kurtosis=array([-1.20661157, -0.92573214, -1.72016461]))"
      ]
     },
     "execution_count": 48,
     "metadata": {},
     "output_type": "execute_result"
    }
   ],
   "source": [
    "scipy.stats.describe(twod)"
   ]
  },
  {
   "cell_type": "code",
   "execution_count": null,
   "metadata": {
    "colab": {
     "base_uri": "https://localhost:8080/"
    },
    "id": "U5MCFmJ80PQu",
    "outputId": "39a17962-bc01-4094-e852-4eec900b22ec"
   },
   "outputs": [
    {
     "data": {
      "text/plain": [
       "DescribeResult(nobs=3, minmax=(array([1, 1, 2, 4]), array([ 1,  4,  9, 27])), mean=array([ 1.        ,  2.33333333,  5.        , 13.        ]), variance=array([  0.        ,   2.33333333,  13.        , 151.        ]), skewness=array([0.        , 0.38180177, 0.47033046, 0.62375209]), kurtosis=array([-3. , -1.5, -1.5, -1.5]))"
      ]
     },
     "execution_count": 49,
     "metadata": {},
     "output_type": "execute_result"
    }
   ],
   "source": [
    "scipy.stats.describe(twod,axis=1)"
   ]
  },
  {
   "cell_type": "markdown",
   "metadata": {
    "id": "tnuOk2kN0JpL"
   },
   "source": [
    "#dataframe"
   ]
  },
  {
   "cell_type": "code",
   "execution_count": null,
   "metadata": {
    "colab": {
     "base_uri": "https://localhost:8080/",
     "height": 170
    },
    "id": "6ok3qg8q0MCv",
    "outputId": "6c791881-39f8-44e6-e0f4-3da82bdee6e1"
   },
   "outputs": [
    {
     "data": {
      "text/html": [
       "<div>\n",
       "<style scoped>\n",
       "    .dataframe tbody tr th:only-of-type {\n",
       "        vertical-align: middle;\n",
       "    }\n",
       "\n",
       "    .dataframe tbody tr th {\n",
       "        vertical-align: top;\n",
       "    }\n",
       "\n",
       "    .dataframe thead th {\n",
       "        text-align: right;\n",
       "    }\n",
       "</style>\n",
       "<table border=\"1\" class=\"dataframe\">\n",
       "  <thead>\n",
       "    <tr style=\"text-align: right;\">\n",
       "      <th></th>\n",
       "      <th>a</th>\n",
       "      <th>b</th>\n",
       "      <th>c</th>\n",
       "    </tr>\n",
       "  </thead>\n",
       "  <tbody>\n",
       "    <tr>\n",
       "      <th>1</th>\n",
       "      <td>1</td>\n",
       "      <td>1</td>\n",
       "      <td>1</td>\n",
       "    </tr>\n",
       "    <tr>\n",
       "      <th>2</th>\n",
       "      <td>1</td>\n",
       "      <td>2</td>\n",
       "      <td>4</td>\n",
       "    </tr>\n",
       "    <tr>\n",
       "      <th>3</th>\n",
       "      <td>4</td>\n",
       "      <td>9</td>\n",
       "      <td>2</td>\n",
       "    </tr>\n",
       "    <tr>\n",
       "      <th>4</th>\n",
       "      <td>8</td>\n",
       "      <td>27</td>\n",
       "      <td>4</td>\n",
       "    </tr>\n",
       "  </tbody>\n",
       "</table>\n",
       "</div>"
      ],
      "text/plain": [
       "   a   b  c\n",
       "1  1   1  1\n",
       "2  1   2  4\n",
       "3  4   9  2\n",
       "4  8  27  4"
      ]
     },
     "execution_count": 50,
     "metadata": {},
     "output_type": "execute_result"
    }
   ],
   "source": [
    "row_names = [1,2,3,4]\n",
    "col_names = [\"a\",\"b\",\"c\"]\n",
    "df = pd.DataFrame(twod, index=row_names, columns=col_names)\n",
    "df"
   ]
  },
  {
   "cell_type": "code",
   "execution_count": null,
   "metadata": {
    "colab": {
     "base_uri": "https://localhost:8080/"
    },
    "id": "W8xcrOjc08tX",
    "outputId": "1119d74b-84ca-4646-c26e-c8c68e1f7cab"
   },
   "outputs": [
    {
     "data": {
      "text/plain": [
       "a     11.000000\n",
       "b    144.916667\n",
       "c      2.250000\n",
       "dtype: float64"
      ]
     },
     "execution_count": 51,
     "metadata": {},
     "output_type": "execute_result"
    }
   ],
   "source": [
    "df.var()"
   ]
  },
  {
   "cell_type": "code",
   "execution_count": null,
   "metadata": {
    "colab": {
     "base_uri": "https://localhost:8080/"
    },
    "id": "ZuP10RXN0_E3",
    "outputId": "dafa3508-d7ba-4cfc-9342-8b0874857c16"
   },
   "outputs": [
    {
     "data": {
      "text/plain": [
       "1     1.000000\n",
       "2     2.333333\n",
       "3     5.000000\n",
       "4    13.000000\n",
       "dtype: float64"
      ]
     },
     "execution_count": 52,
     "metadata": {},
     "output_type": "execute_result"
    }
   ],
   "source": [
    "df.mean(axis=1)"
   ]
  },
  {
   "cell_type": "code",
   "execution_count": null,
   "metadata": {
    "colab": {
     "base_uri": "https://localhost:8080/"
    },
    "id": "EOL211c11CYQ",
    "outputId": "056f7f90-ec44-4c54-cbb5-b9c820820b52"
   },
   "outputs": [
    {
     "data": {
      "text/plain": [
       "1    1\n",
       "2    1\n",
       "3    4\n",
       "4    8\n",
       "Name: a, dtype: int64"
      ]
     },
     "execution_count": 54,
     "metadata": {},
     "output_type": "execute_result"
    }
   ],
   "source": [
    "df['a']"
   ]
  },
  {
   "cell_type": "code",
   "execution_count": null,
   "metadata": {
    "colab": {
     "base_uri": "https://localhost:8080/"
    },
    "id": "j4dj49jY1Zmy",
    "outputId": "bf39fd86-f98c-4a79-8994-309d5aadfcc9"
   },
   "outputs": [
    {
     "data": {
      "text/plain": [
       "3.5"
      ]
     },
     "execution_count": 58,
     "metadata": {},
     "output_type": "execute_result"
    }
   ],
   "source": [
    "df['a'].mean()"
   ]
  },
  {
   "cell_type": "code",
   "execution_count": null,
   "metadata": {
    "colab": {
     "base_uri": "https://localhost:8080/",
     "height": 290
    },
    "id": "JMj91L7g12lE",
    "outputId": "02aacd0e-2844-434d-b2de-fab52886741b"
   },
   "outputs": [
    {
     "data": {
      "text/html": [
       "<div>\n",
       "<style scoped>\n",
       "    .dataframe tbody tr th:only-of-type {\n",
       "        vertical-align: middle;\n",
       "    }\n",
       "\n",
       "    .dataframe tbody tr th {\n",
       "        vertical-align: top;\n",
       "    }\n",
       "\n",
       "    .dataframe thead th {\n",
       "        text-align: right;\n",
       "    }\n",
       "</style>\n",
       "<table border=\"1\" class=\"dataframe\">\n",
       "  <thead>\n",
       "    <tr style=\"text-align: right;\">\n",
       "      <th></th>\n",
       "      <th>a</th>\n",
       "      <th>b</th>\n",
       "      <th>c</th>\n",
       "    </tr>\n",
       "  </thead>\n",
       "  <tbody>\n",
       "    <tr>\n",
       "      <th>count</th>\n",
       "      <td>4.000000</td>\n",
       "      <td>4.000000</td>\n",
       "      <td>4.00</td>\n",
       "    </tr>\n",
       "    <tr>\n",
       "      <th>mean</th>\n",
       "      <td>3.500000</td>\n",
       "      <td>9.750000</td>\n",
       "      <td>2.75</td>\n",
       "    </tr>\n",
       "    <tr>\n",
       "      <th>std</th>\n",
       "      <td>3.316625</td>\n",
       "      <td>12.038134</td>\n",
       "      <td>1.50</td>\n",
       "    </tr>\n",
       "    <tr>\n",
       "      <th>min</th>\n",
       "      <td>1.000000</td>\n",
       "      <td>1.000000</td>\n",
       "      <td>1.00</td>\n",
       "    </tr>\n",
       "    <tr>\n",
       "      <th>25%</th>\n",
       "      <td>1.000000</td>\n",
       "      <td>1.750000</td>\n",
       "      <td>1.75</td>\n",
       "    </tr>\n",
       "    <tr>\n",
       "      <th>50%</th>\n",
       "      <td>2.500000</td>\n",
       "      <td>5.500000</td>\n",
       "      <td>3.00</td>\n",
       "    </tr>\n",
       "    <tr>\n",
       "      <th>75%</th>\n",
       "      <td>5.000000</td>\n",
       "      <td>13.500000</td>\n",
       "      <td>4.00</td>\n",
       "    </tr>\n",
       "    <tr>\n",
       "      <th>max</th>\n",
       "      <td>8.000000</td>\n",
       "      <td>27.000000</td>\n",
       "      <td>4.00</td>\n",
       "    </tr>\n",
       "  </tbody>\n",
       "</table>\n",
       "</div>"
      ],
      "text/plain": [
       "              a          b     c\n",
       "count  4.000000   4.000000  4.00\n",
       "mean   3.500000   9.750000  2.75\n",
       "std    3.316625  12.038134  1.50\n",
       "min    1.000000   1.000000  1.00\n",
       "25%    1.000000   1.750000  1.75\n",
       "50%    2.500000   5.500000  3.00\n",
       "75%    5.000000  13.500000  4.00\n",
       "max    8.000000  27.000000  4.00"
      ]
     },
     "execution_count": 59,
     "metadata": {},
     "output_type": "execute_result"
    }
   ],
   "source": [
    "df.describe()"
   ]
  }
 ],
 "metadata": {
  "colab": {
   "collapsed_sections": [
    "y8xDVUPfe3xR",
    "tDV9ubTzlGso",
    "WScxr9eql6Nh",
    "IGvBN2L0gep9",
    "6OmApL-pggxN",
    "-AmhQ8hrr5Ob",
    "QalEq2SGtC1G",
    "7Thpih8FuOxP",
    "nN_73uzguwPU"
   ],
   "name": "Copy of Descriptive Statistics",
   "provenance": []
  },
  "kernelspec": {
   "display_name": "Python 3",
   "language": "python",
   "name": "python3"
  },
  "language_info": {
   "codemirror_mode": {
    "name": "ipython",
    "version": 3
   },
   "file_extension": ".py",
   "mimetype": "text/x-python",
   "name": "python",
   "nbconvert_exporter": "python",
   "pygments_lexer": "ipython3",
   "version": "3.8.8"
  }
 },
 "nbformat": 4,
 "nbformat_minor": 1
}
