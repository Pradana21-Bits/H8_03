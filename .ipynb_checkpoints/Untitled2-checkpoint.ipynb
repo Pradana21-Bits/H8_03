{
 "cells": [
  {
   "cell_type": "code",
   "execution_count": 1,
   "metadata": {
    "colab": {
     "base_uri": "https://localhost:8080/"
    },
    "id": "X-xqVMNzHjmH",
    "outputId": "2135bf20-28dc-4fa7-e893-1854a1fdab8d"
   },
   "outputs": [
    {
     "name": "stdout",
     "output_type": "stream",
     "text": [
      "out of scope\n",
      "function test\n"
     ]
    }
   ],
   "source": [
    "def functiontest ():\n",
    "  print(\"function test\")\n",
    "print(\"out of scope\")\n",
    "functiontest()"
   ]
  },
  {
   "cell_type": "code",
   "execution_count": 2,
   "metadata": {
    "id": "r9WZtawkMdsZ"
   },
   "outputs": [],
   "source": [
    "a = [1,\"dua\",3,\"empat\"]\n",
    "a = [1,[2], [3,4]]"
   ]
  },
  {
   "cell_type": "code",
   "execution_count": 3,
   "metadata": {
    "colab": {
     "base_uri": "https://localhost:8080/"
    },
    "id": "ChUjOCEqVOfw",
    "outputId": "cff8fd18-8a40-4fc1-e3c4-e0c198e73925"
   },
   "outputs": [
    {
     "data": {
      "text/plain": [
       "1"
      ]
     },
     "execution_count": 3,
     "metadata": {},
     "output_type": "execute_result"
    }
   ],
   "source": [
    "myUpsideList = [10,9,8]\n",
    "myUpsideList.sort()\n",
    "myUpsideList.count(9)"
   ]
  },
  {
   "cell_type": "code",
   "execution_count": 4,
   "metadata": {
    "colab": {
     "base_uri": "https://localhost:8080/"
    },
    "id": "0NiPJs58W12M",
    "outputId": "1b5945ae-6a59-44d6-9316-99d5f0776ef0"
   },
   "outputs": [
    {
     "data": {
      "text/plain": [
       "3"
      ]
     },
     "execution_count": 4,
     "metadata": {},
     "output_type": "execute_result"
    }
   ],
   "source": [
    "len(myUpsideList)"
   ]
  },
  {
   "cell_type": "code",
   "execution_count": 5,
   "metadata": {
    "colab": {
     "base_uri": "https://localhost:8080/"
    },
    "id": "ksWd0JhNXxGT",
    "outputId": "a75225a8-7443-4738-d3da-40f94d989b82"
   },
   "outputs": [
    {
     "name": "stdout",
     "output_type": "stream",
     "text": [
      "8\n",
      "10\n"
     ]
    }
   ],
   "source": [
    "print(min(myUpsideList))\n",
    "print(max(myUpsideList))"
   ]
  },
  {
   "cell_type": "code",
   "execution_count": 6,
   "metadata": {
    "colab": {
     "base_uri": "https://localhost:8080/"
    },
    "id": "IPDHcWFfX3BA",
    "outputId": "aa39d075-f153-4794-f9a7-bd1b7273c32b"
   },
   "outputs": [
    {
     "name": "stdout",
     "output_type": "stream",
     "text": [
      "[8, 9, 10, 6]\n"
     ]
    }
   ],
   "source": [
    "myUpsideList = [10,9,8]\n",
    "myUpsideList.sort()\n",
    "myUpsideList.append(6)\n",
    "print(myUpsideList)"
   ]
  },
  {
   "cell_type": "code",
   "execution_count": 7,
   "metadata": {
    "id": "mYDoKtZ7YCsw"
   },
   "outputs": [],
   "source": [
    "myUpsideList[3]=7"
   ]
  },
  {
   "cell_type": "code",
   "execution_count": 8,
   "metadata": {
    "colab": {
     "base_uri": "https://localhost:8080/"
    },
    "id": "PEItOsD4Yb45",
    "outputId": "8ce17db8-d10f-4f46-f974-f47fa59d86f4"
   },
   "outputs": [
    {
     "data": {
      "text/plain": [
       "[8, 9, 10, 7]"
      ]
     },
     "execution_count": 8,
     "metadata": {},
     "output_type": "execute_result"
    }
   ],
   "source": [
    "myUpsideList"
   ]
  },
  {
   "cell_type": "code",
   "execution_count": 9,
   "metadata": {
    "id": "jkgbMS8oYeJ9"
   },
   "outputs": [],
   "source": [
    "myList = [10,9,8,6,7]"
   ]
  },
  {
   "cell_type": "code",
   "execution_count": 10,
   "metadata": {
    "colab": {
     "base_uri": "https://localhost:8080/"
    },
    "id": "mA5ASyy3Yiio",
    "outputId": "32dc48c8-c3c7-4c68-b953-940b9e34d0a0"
   },
   "outputs": [
    {
     "data": {
      "text/plain": [
       "[10, 9, 8, 7, 6]"
      ]
     },
     "execution_count": 10,
     "metadata": {},
     "output_type": "execute_result"
    }
   ],
   "source": [
    "existVal = myList[3]\n",
    "myList[3] = myList[4]\n",
    "myList[4] = existVal\n",
    "myList"
   ]
  },
  {
   "cell_type": "code",
   "execution_count": 11,
   "metadata": {
    "colab": {
     "base_uri": "https://localhost:8080/"
    },
    "id": "h0EWWGceYzf4",
    "outputId": "5a9db30a-564b-4f19-9abb-82cc092eac7b"
   },
   "outputs": [
    {
     "data": {
      "text/plain": [
       "[10, 2, 3, 4, 5, 6]"
      ]
     },
     "execution_count": 11,
     "metadata": {},
     "output_type": "execute_result"
    }
   ],
   "source": [
    "myList[1:4]=[2,3,4,5]\n",
    "myList"
   ]
  }
 ],
 "metadata": {
  "colab": {
   "name": "Untitled2.ipynb",
   "provenance": []
  },
  "kernelspec": {
   "display_name": "Python 3",
   "language": "python",
   "name": "python3"
  },
  "language_info": {
   "codemirror_mode": {
    "name": "ipython",
    "version": 3
   },
   "file_extension": ".py",
   "mimetype": "text/x-python",
   "name": "python",
   "nbconvert_exporter": "python",
   "pygments_lexer": "ipython3",
   "version": "3.8.8"
  }
 },
 "nbformat": 4,
 "nbformat_minor": 1
}
