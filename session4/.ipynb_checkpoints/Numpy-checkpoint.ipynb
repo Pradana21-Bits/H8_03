{
 "cells": [
  {
   "cell_type": "code",
   "execution_count": 24,
   "id": "f4813251",
   "metadata": {},
   "outputs": [],
   "source": [
    "import numpy as np"
   ]
  },
  {
   "cell_type": "code",
   "execution_count": 3,
   "id": "e9aa4dd6",
   "metadata": {},
   "outputs": [],
   "source": [
    "myArray = np.array([1,2,3,4,5,6])\n",
    "myList = [1,2,3,4,5,6]"
   ]
  },
  {
   "cell_type": "code",
   "execution_count": 4,
   "id": "ca60c8a3",
   "metadata": {},
   "outputs": [
    {
     "data": {
      "text/plain": [
       "array([1, 2, 3, 4, 5, 6])"
      ]
     },
     "execution_count": 4,
     "metadata": {},
     "output_type": "execute_result"
    }
   ],
   "source": [
    "myArray"
   ]
  },
  {
   "cell_type": "code",
   "execution_count": 5,
   "id": "d7a44398",
   "metadata": {
    "scrolled": true
   },
   "outputs": [
    {
     "name": "stdout",
     "output_type": "stream",
     "text": [
      "[1, 2, 3, 4, 5, 6, 1, 2, 3, 4, 5, 6, 1, 2, 3, 4, 5, 6, 1, 2, 3, 4, 5, 6, 1, 2, 3, 4, 5, 6] [0.2 0.4 0.6 0.8 1.  1.2]\n"
     ]
    }
   ],
   "source": [
    "multylyList = myList * 5\n",
    "multyplyArray = myArray / 5\n",
    "print (multylyList,multyplyArray)"
   ]
  },
  {
   "cell_type": "code",
   "execution_count": 26,
   "id": "fd930849",
   "metadata": {},
   "outputs": [
    {
     "data": {
      "text/plain": [
       "array([ 1,  2,  3,  4,  5,  6,  7,  8,  9, 10])"
      ]
     },
     "execution_count": 26,
     "metadata": {},
     "output_type": "execute_result"
    }
   ],
   "source": [
    "myArray = np.sort([1,2,3,4,5,6,8,7,9,10])\n",
    "myArray"
   ]
  },
  {
   "cell_type": "code",
   "execution_count": 32,
   "id": "58dd84ed",
   "metadata": {},
   "outputs": [],
   "source": [
    "Arraytambah = myArray + 5\n",
    "Arraykurang = myArray - 5\n",
    "Arraybagi = myArray / 5\n",
    "Arraykali = myArray * 5"
   ]
  },
  {
   "cell_type": "code",
   "execution_count": 7,
   "id": "39d8c37d",
   "metadata": {},
   "outputs": [
    {
     "ename": "TypeError",
     "evalue": "can only concatenate list (not \"int\") to list",
     "output_type": "error",
     "traceback": [
      "\u001b[1;31m---------------------------------------------------------------------------\u001b[0m",
      "\u001b[1;31mTypeError\u001b[0m                                 Traceback (most recent call last)",
      "\u001b[1;32m<ipython-input-7-620e7980c5d0>\u001b[0m in \u001b[0;36m<module>\u001b[1;34m\u001b[0m\n\u001b[1;32m----> 1\u001b[1;33m \u001b[0mListtambah\u001b[0m \u001b[1;33m=\u001b[0m \u001b[0mmyList\u001b[0m \u001b[1;33m+\u001b[0m \u001b[1;36m5\u001b[0m\u001b[1;33m\u001b[0m\u001b[1;33m\u001b[0m\u001b[0m\n\u001b[0m\u001b[0;32m      2\u001b[0m \u001b[0mListkurang\u001b[0m \u001b[1;33m=\u001b[0m \u001b[0mmyList\u001b[0m \u001b[1;33m-\u001b[0m \u001b[1;36m5\u001b[0m\u001b[1;33m\u001b[0m\u001b[1;33m\u001b[0m\u001b[0m\n\u001b[0;32m      3\u001b[0m \u001b[0mListbagi\u001b[0m \u001b[1;33m=\u001b[0m \u001b[0mmyList\u001b[0m \u001b[1;33m/\u001b[0m \u001b[1;36m5\u001b[0m\u001b[1;33m\u001b[0m\u001b[1;33m\u001b[0m\u001b[0m\n\u001b[0;32m      4\u001b[0m \u001b[0mListkali\u001b[0m \u001b[1;33m=\u001b[0m \u001b[0mmyList\u001b[0m \u001b[1;33m*\u001b[0m \u001b[1;36m5\u001b[0m\u001b[1;33m\u001b[0m\u001b[1;33m\u001b[0m\u001b[0m\n",
      "\u001b[1;31mTypeError\u001b[0m: can only concatenate list (not \"int\") to list"
     ]
    }
   ],
   "source": [
    "Listtambah = myList + 5\n",
    "Listkurang = myList - 5\n",
    "Listbagi = myList / 5\n",
    "Listkali = myList * 5"
   ]
  },
  {
   "cell_type": "code",
   "execution_count": 8,
   "id": "db91de95",
   "metadata": {},
   "outputs": [
    {
     "name": "stdout",
     "output_type": "stream",
     "text": [
      "[0.2 0.4 0.6 0.8 1.  1.2] [ 5 10 15 20 25 30] [-4 -3 -2 -1  0  1] [ 6  7  8  9 10 11]\n"
     ]
    }
   ],
   "source": [
    "print(Arraybagi,Arraykali,Arraykurang,Arraytambah)"
   ]
  },
  {
   "cell_type": "code",
   "execution_count": 9,
   "id": "b3ad39bc",
   "metadata": {},
   "outputs": [
    {
     "data": {
      "text/plain": [
       "array([False, False, False,  True,  True,  True])"
      ]
     },
     "execution_count": 9,
     "metadata": {},
     "output_type": "execute_result"
    }
   ],
   "source": [
    "mybool = myArray > 3\n",
    "mybool"
   ]
  },
  {
   "cell_type": "code",
   "execution_count": 28,
   "id": "25cfea5d",
   "metadata": {},
   "outputs": [
    {
     "name": "stdout",
     "output_type": "stream",
     "text": [
      "(3, 4)\n",
      "2\n",
      "12\n",
      "<class 'numpy.ndarray'>\n"
     ]
    }
   ],
   "source": [
    "array3x4 = np.array(([1,2,3,4],\n",
    "                     [5,6,7,8],\n",
    "                     [9,10,11,12]))\n",
    "array3x4\n",
    "print(array3x4.shape) #ukuran array\n",
    "print(array3x4.ndim)\n",
    "print(array3x4.size)\n",
    "print(type(array3x4))\n"
   ]
  },
  {
   "cell_type": "code",
   "execution_count": 29,
   "id": "e53b815b",
   "metadata": {},
   "outputs": [
    {
     "name": "stdout",
     "output_type": "stream",
     "text": [
      "[[ 1  2  3]\n",
      " [ 4  5  6]\n",
      " [ 7  8  9]\n",
      " [10 11 12]]\n"
     ]
    }
   ],
   "source": [
    "array3x4 = np.array(([1,2,3,4],\n",
    "                     [5,6,7,8],\n",
    "                     [9,10,11,12]))\n",
    "array3x4\n",
    "print(array3x4.reshape(4,3)) #ukuran array"
   ]
  },
  {
   "cell_type": "code",
   "execution_count": 11,
   "id": "2fe0e021",
   "metadata": {},
   "outputs": [
    {
     "name": "stdout",
     "output_type": "stream",
     "text": [
      "[[ 2  3]\n",
      " [ 6  7]\n",
      " [10 11]]\n"
     ]
    }
   ],
   "source": [
    "print(array3x4[0: ,1:3])"
   ]
  },
  {
   "cell_type": "code",
   "execution_count": 30,
   "id": "b15c5518",
   "metadata": {},
   "outputs": [
    {
     "name": "stdout",
     "output_type": "stream",
     "text": [
      "[[ 1  2  3  4]\n",
      " [ 5  6  7  8]\n",
      " [ 9 10 11 12]]\n"
     ]
    }
   ],
   "source": [
    "array3x4 = np.array(([1,2,3,4],\n",
    "                     [5,6,7,8],\n",
    "                     [9,10,11,12]))\n",
    "first = array3x4[0:]\n",
    "kedua = array3x4[0:3]\n",
    "print(first)"
   ]
  },
  {
   "cell_type": "code",
   "execution_count": 31,
   "id": "8e5092c1",
   "metadata": {},
   "outputs": [
    {
     "name": "stdout",
     "output_type": "stream",
     "text": [
      "[[ 1  2  3  4]\n",
      " [ 5  6  7  8]\n",
      " [ 9 10 11 12]]\n"
     ]
    }
   ],
   "source": [
    "print(kedua)"
   ]
  },
  {
   "cell_type": "code",
   "execution_count": 14,
   "id": "94fabc0f",
   "metadata": {},
   "outputs": [
    {
     "data": {
      "text/plain": [
       "array([[70., 70., 24., 24.],\n",
       "       [90., 80., 68., 46.],\n",
       "       [12., 35., 45., 78.],\n",
       "       [12., 34., 56., 67.]])"
      ]
     },
     "execution_count": 14,
     "metadata": {},
     "output_type": "execute_result"
    }
   ],
   "source": [
    "data = np.genfromtxt(\"./data.csv\" , skip_header=1 ,delimiter=\",\",filling_values=40)\n",
    "data"
   ]
  },
  {
   "cell_type": "code",
   "execution_count": 15,
   "id": "4d89c5e7",
   "metadata": {},
   "outputs": [
    {
     "name": "stdout",
     "output_type": "stream",
     "text": [
      "[90. 80. 68. 78.]\n",
      "[70. 90. 78. 67.]\n"
     ]
    }
   ],
   "source": [
    "max = np.amax(data,axis=0)\n",
    "max1 = np.amax(data,axis=1)\n",
    "print(max)\n",
    "print(max1)"
   ]
  },
  {
   "cell_type": "code",
   "execution_count": 16,
   "id": "bb13267d",
   "metadata": {},
   "outputs": [
    {
     "name": "stdout",
     "output_type": "stream",
     "text": [
      "[47.   71.   42.5  42.25]\n"
     ]
    }
   ],
   "source": [
    "mean = np.mean(data, axis=1)\n",
    "print(mean)"
   ]
  },
  {
   "cell_type": "code",
   "execution_count": 17,
   "id": "e92bdd48",
   "metadata": {},
   "outputs": [
    {
     "ename": "NameError",
     "evalue": "name 'a' is not defined",
     "output_type": "error",
     "traceback": [
      "\u001b[1;31m---------------------------------------------------------------------------\u001b[0m",
      "\u001b[1;31mNameError\u001b[0m                                 Traceback (most recent call last)",
      "\u001b[1;32m<ipython-input-17-6c0eb2fd4a0b>\u001b[0m in \u001b[0;36m<module>\u001b[1;34m\u001b[0m\n\u001b[0;32m      2\u001b[0m \u001b[0mava\u001b[0m \u001b[1;33m=\u001b[0m \u001b[0mnp\u001b[0m\u001b[1;33m.\u001b[0m\u001b[0maverage\u001b[0m\u001b[1;33m(\u001b[0m\u001b[0mdata\u001b[0m\u001b[1;33m,\u001b[0m\u001b[0maxis\u001b[0m\u001b[1;33m=\u001b[0m\u001b[1;36m0\u001b[0m\u001b[1;33m)\u001b[0m\u001b[1;33m\u001b[0m\u001b[1;33m\u001b[0m\u001b[0m\n\u001b[0;32m      3\u001b[0m \u001b[0mb\u001b[0m \u001b[1;33m=\u001b[0m \u001b[0mnp\u001b[0m\u001b[1;33m.\u001b[0m\u001b[0maverage\u001b[0m\u001b[1;33m(\u001b[0m\u001b[0mdata\u001b[0m\u001b[1;33m,\u001b[0m\u001b[0maxis\u001b[0m\u001b[1;33m=\u001b[0m\u001b[1;36m1\u001b[0m\u001b[1;33m)\u001b[0m\u001b[1;33m\u001b[0m\u001b[1;33m\u001b[0m\u001b[0m\n\u001b[1;32m----> 4\u001b[1;33m \u001b[0mprint\u001b[0m\u001b[1;33m(\u001b[0m\u001b[0ma\u001b[0m\u001b[1;33m)\u001b[0m\u001b[1;33m\u001b[0m\u001b[1;33m\u001b[0m\u001b[0m\n\u001b[0m\u001b[0;32m      5\u001b[0m \u001b[0mprint\u001b[0m\u001b[1;33m(\u001b[0m\u001b[0mb\u001b[0m\u001b[1;33m)\u001b[0m\u001b[1;33m\u001b[0m\u001b[1;33m\u001b[0m\u001b[0m\n",
      "\u001b[1;31mNameError\u001b[0m: name 'a' is not defined"
     ]
    }
   ],
   "source": [
    "#rata-rata\n",
    "ava = np.average(data,axis=0)\n",
    "b = np.average(data,axis=1)\n",
    "print(a)\n",
    "print(b)"
   ]
  },
  {
   "cell_type": "code",
   "execution_count": 18,
   "id": "38095c14",
   "metadata": {},
   "outputs": [
    {
     "name": "stdout",
     "output_type": "stream",
     "text": [
      "[46.   54.75 48.25 53.75]\n"
     ]
    }
   ],
   "source": [
    "asort = np.argsort(data,axis=0)\n",
    "print(ava)"
   ]
  },
  {
   "cell_type": "code",
   "execution_count": 19,
   "id": "adce9763",
   "metadata": {},
   "outputs": [
    {
     "name": "stdout",
     "output_type": "stream",
     "text": [
      "[4 4 4 4]\n"
     ]
    }
   ],
   "source": [
    "asa = np.count_nonzero(data,axis=0)\n",
    "print(asa)"
   ]
  },
  {
   "cell_type": "code",
   "execution_count": 20,
   "id": "a4b05d68",
   "metadata": {},
   "outputs": [
    {
     "name": "stdout",
     "output_type": "stream",
     "text": [
      "[184. 219. 193. 215.]\n",
      "[188. 284. 170. 169.]\n"
     ]
    }
   ],
   "source": [
    "kal0 = np.sum(data,axis=0)\n",
    "kal1 = np.sum(data,axis=1)\n",
    "print(kal0)\n",
    "print(kal1)"
   ]
  },
  {
   "cell_type": "code",
   "execution_count": 21,
   "id": "b386dfda",
   "metadata": {},
   "outputs": [
    {
     "data": {
      "text/plain": [
       "array([[78.],\n",
       "       [67.]])"
      ]
     },
     "execution_count": 21,
     "metadata": {},
     "output_type": "execute_result"
    }
   ],
   "source": [
    "[y,x] = data.shape\n",
    "data [2:y,3:y]"
   ]
  },
  {
   "cell_type": "code",
   "execution_count": 22,
   "id": "9de9a0da",
   "metadata": {},
   "outputs": [
    {
     "data": {
      "text/plain": [
       "array([[70., 70., 24.],\n",
       "       [90., 80., 68.],\n",
       "       [12., 35., 45.],\n",
       "       [12., 34., 56.]])"
      ]
     },
     "execution_count": 22,
     "metadata": {},
     "output_type": "execute_result"
    }
   ],
   "source": [
    "#delete-arryay\n",
    "newdata = np.delete(data,[3], axis=1)\n",
    "newdata"
   ]
  },
  {
   "cell_type": "code",
   "execution_count": 23,
   "id": "cb24742e",
   "metadata": {},
   "outputs": [
    {
     "ename": "TypeError",
     "evalue": "_reshape_dispatcher() got an unexpected keyword argument 'axis'",
     "output_type": "error",
     "traceback": [
      "\u001b[1;31m---------------------------------------------------------------------------\u001b[0m",
      "\u001b[1;31mTypeError\u001b[0m                                 Traceback (most recent call last)",
      "\u001b[1;32m<ipython-input-23-612e918b220f>\u001b[0m in \u001b[0;36m<module>\u001b[1;34m\u001b[0m\n\u001b[1;32m----> 1\u001b[1;33m \u001b[0mnp\u001b[0m\u001b[1;33m.\u001b[0m\u001b[0mreshape\u001b[0m\u001b[1;33m(\u001b[0m\u001b[0mdata\u001b[0m\u001b[1;33m,\u001b[0m\u001b[0maxis\u001b[0m\u001b[1;33m=\u001b[0m\u001b[1;36m1\u001b[0m\u001b[1;33m)\u001b[0m\u001b[1;33m\u001b[0m\u001b[1;33m\u001b[0m\u001b[0m\n\u001b[0m\u001b[0;32m      2\u001b[0m \u001b[0mnp\u001b[0m\u001b[1;33m.\u001b[0m\u001b[0mresize\u001b[0m\u001b[1;33m(\u001b[0m\u001b[0mdata\u001b[0m\u001b[1;33m,\u001b[0m\u001b[0maxis\u001b[0m\u001b[1;33m=\u001b[0m\u001b[1;36m1\u001b[0m\u001b[1;33m)\u001b[0m\u001b[1;33m\u001b[0m\u001b[1;33m\u001b[0m\u001b[0m\n",
      "\u001b[1;32m<__array_function__ internals>\u001b[0m in \u001b[0;36mreshape\u001b[1;34m(*args, **kwargs)\u001b[0m\n",
      "\u001b[1;31mTypeError\u001b[0m: _reshape_dispatcher() got an unexpected keyword argument 'axis'"
     ]
    }
   ],
   "source": [
    "np.reshape(data,axis=1)\n",
    "np.resize(data,axis=1)"
   ]
  },
  {
   "cell_type": "code",
   "execution_count": null,
   "id": "b9dacbe2",
   "metadata": {},
   "outputs": [],
   "source": []
  },
  {
   "cell_type": "code",
   "execution_count": null,
   "id": "068bcf86",
   "metadata": {},
   "outputs": [],
   "source": []
  }
 ],
 "metadata": {
  "kernelspec": {
   "display_name": "Python 3",
   "language": "python",
   "name": "python3"
  },
  "language_info": {
   "codemirror_mode": {
    "name": "ipython",
    "version": 3
   },
   "file_extension": ".py",
   "mimetype": "text/x-python",
   "name": "python",
   "nbconvert_exporter": "python",
   "pygments_lexer": "ipython3",
   "version": "3.8.8"
  }
 },
 "nbformat": 4,
 "nbformat_minor": 5
}
